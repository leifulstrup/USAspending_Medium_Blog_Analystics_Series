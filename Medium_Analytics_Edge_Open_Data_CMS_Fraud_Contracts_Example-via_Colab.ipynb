{
  "nbformat": 4,
  "nbformat_minor": 0,
  "metadata": {
    "colab": {
      "name": "Medium_Analytics_Edge_Open_Data_CMS_Fraud_Contracts_Example.ipynb",
      "provenance": [],
      "collapsed_sections": []
    },
    "kernelspec": {
      "name": "python3",
      "display_name": "Python 3"
    }
  },
  "cells": [
    {
      "cell_type": "markdown",
      "metadata": {
        "id": "BpHShoMiswVw"
      },
      "source": [
        "# Gaining an Analytics Edge Using Federal Spending Open Data\n",
        "\n",
        "### Blog #2 Automating the Information Gathering Process"
      ]
    },
    {
      "cell_type": "markdown",
      "metadata": {
        "id": "9pTepvGKs_Zn"
      },
      "source": [
        "**Premise of this Blog Series**: Publicly available “**open data**” sources and open-source technology analytics can provide information to reduce uncertainty when making critical business investment decisions.\n",
        "\n",
        "**Purpose**: Demonstrate to **executives** how easy it is to access and analyze free, open-data sources and motivate them to expect more insight and context from their team when making crucial go/no-go **investment decisions** on bids and new offerings.\n",
        "\n",
        "**Scope**: US Federal Contracting Market."
      ]
    },
    {
      "cell_type": "markdown",
      "metadata": {
        "id": "qg7cjnjEYdR_"
      },
      "source": [
        "\"#FederalSpending #Analytics #MarketAnalysis #Python #OpenData\""
      ]
    },
    {
      "cell_type": "markdown",
      "metadata": {
        "id": "Cgnxc2B_rjvm"
      },
      "source": [
        "## The following Python code automates the manual steps described in [my first Medium.com post on this topic found here](https://medium.com/@lulstrup/gaining-an-analytics-edge-using-federal-spending-open-data-7cc69a063c68).[link text](https://)"
      ]
    },
    {
      "cell_type": "markdown",
      "metadata": {
        "id": "txij_C_o8g38"
      },
      "source": [
        "This notebook and other jupyter Python notebooks for "
      ]
    },
    {
      "cell_type": "markdown",
      "metadata": {
        "id": "dOxVIHO2PLiV"
      },
      "source": [
        "The code below can be [found in this FREE Google Colab notebook](https://colab.research.google.com/drive/1AISewRUz3NkmAHa4pWV1KOt8hAVu1yYD?usp=sharing) where you can save a copy into your Google Drive and open the notebook and execute this code on your own. The code is executed with Shift-Enter or by selecting the > in the circle symbol on the upper left of a code cell."
      ]
    },
    {
      "cell_type": "markdown",
      "metadata": {
        "id": "kQqteTsNtipz"
      },
      "source": [
        "If you are completely new to Python, free and low cost resources are abundant. Follow [this link](https://github.com/leifulstrup/Python_Getting_Started_Favorite_Resources/blob/master/README.md) for some of my favorite sources to get started with Python.\n"
      ]
    },
    {
      "cell_type": "markdown",
      "metadata": {
        "id": "XX9r9W_QtZQ_"
      },
      "source": [
        "The customary first step in Python appplications is to import the packages."
      ]
    },
    {
      "cell_type": "code",
      "metadata": {
        "id": "O8YGXWKC2JlG"
      },
      "source": [
        "import os, glob\n",
        "import pandas as pd\n",
        "import requests\n",
        "import bs4\n",
        "import json\n",
        "import time\n",
        "from datetime import datetime\n",
        "import zipfile"
      ],
      "execution_count": null,
      "outputs": []
    },
    {
      "cell_type": "markdown",
      "metadata": {
        "id": "REqWQfkxwkcy"
      },
      "source": [
        "The next code is not essential but is a good way to search the [USAspending.gov API](https://api.usaspending.gov/) information as one expands the class methods for the Python API access below."
      ]
    },
    {
      "cell_type": "code",
      "metadata": {
        "id": "KFZ0sP054QRX",
        "outputId": "b7f5b6fc-5fb8-4825-e99b-b4972912b37c",
        "colab": {
          "base_uri": "https://localhost:8080/",
          "height": 589
        }
      },
      "source": [
        "def Get_API_Github_Definition(url_test_api):\n",
        "    pass\n",
        "    # need to use selenium to get the \"here\" link to github code\n",
        "    return\n",
        "    \n",
        "#TEST\n",
        "Get_API_Github_Definition(\"https://api.usaspending.gov/api/v2/award_spending/recipient/?fiscal_year=2016&awarding_agency_id=183\")\n",
        "    \n",
        "\n",
        "def Get_API_Endpoints():\n",
        "\n",
        "    url_root = \"https://api.usaspending.gov\"\n",
        "    \n",
        "    r = requests.get(\"https://api.usaspending.gov/docs/endpoints\")\n",
        "\n",
        "    #r.content\n",
        "\n",
        "    soup = bs4.BeautifulSoup(r.content)\n",
        "\n",
        "    results_list = []\n",
        "\n",
        "    table = soup.find('table')\n",
        "    thead = table.find('thead').find('tr')\n",
        "#     for header in thead:\n",
        "#         print(header)\n",
        "#         # gather header titles\n",
        "    for tr in table.find_all('tr'):\n",
        "        elements = []\n",
        "        for td in tr.find_all('td'):\n",
        "            for a in td.find_all('a'):\n",
        "                try:\n",
        "                    elements.append(url_root + a['href'])\n",
        "                    #print(\"...\", a['href']) #, a['href'])\n",
        "                except:\n",
        "                    pass\n",
        "                    #print(a)\n",
        "            #print(td.text)\n",
        "            elements.append(td.text)\n",
        "            \n",
        "        if elements:\n",
        "            results_list.append({'url_test_api' : elements[0], 'Endpoint' : elements[1], 'Methods' : elements[2], 'Description' : elements[3]})\n",
        "        #print()\n",
        "    df = pd.DataFrame(results_list)\n",
        "    df['Endpoint_Labels'] = df['Endpoint'].apply(lambda x: \"_\".join(x.split(\"/\")[3:])[0:-1])\n",
        "    return df\n",
        "\n",
        "df_api_endpoints = Get_API_Endpoints()\n",
        "df_api_endpoints"
      ],
      "execution_count": null,
      "outputs": [
        {
          "output_type": "execute_result",
          "data": {
            "text/html": [
              "<div>\n",
              "<style scoped>\n",
              "    .dataframe tbody tr th:only-of-type {\n",
              "        vertical-align: middle;\n",
              "    }\n",
              "\n",
              "    .dataframe tbody tr th {\n",
              "        vertical-align: top;\n",
              "    }\n",
              "\n",
              "    .dataframe thead th {\n",
              "        text-align: right;\n",
              "    }\n",
              "</style>\n",
              "<table border=\"1\" class=\"dataframe\">\n",
              "  <thead>\n",
              "    <tr style=\"text-align: right;\">\n",
              "      <th></th>\n",
              "      <th>url_test_api</th>\n",
              "      <th>Endpoint</th>\n",
              "      <th>Methods</th>\n",
              "      <th>Description</th>\n",
              "      <th>Endpoint_Labels</th>\n",
              "    </tr>\n",
              "  </thead>\n",
              "  <tbody>\n",
              "    <tr>\n",
              "      <th>0</th>\n",
              "      <td>https://api.usaspending.gov/api/v2/agency/012/</td>\n",
              "      <td>/api/v2/agency/&lt;TOPTIER_AGENCY_CODE&gt;/</td>\n",
              "      <td>GET</td>\n",
              "      <td>Returns agency overview information for USAspe...</td>\n",
              "      <td>agency_&lt;TOPTIER_AGENCY_CODE&gt;</td>\n",
              "    </tr>\n",
              "    <tr>\n",
              "      <th>1</th>\n",
              "      <td>https://api.usaspending.gov/api/v2/agency/012/...</td>\n",
              "      <td>/api/v2/agency/&lt;TOPTIER_AGENCY_CODE&gt;/budget_fu...</td>\n",
              "      <td>POST</td>\n",
              "      <td>Returns a list of Budget Functions and Budget ...</td>\n",
              "      <td>agency_&lt;TOPTIER_AGENCY_CODE&gt;_budget_function</td>\n",
              "    </tr>\n",
              "    <tr>\n",
              "      <th>2</th>\n",
              "      <td>https://api.usaspending.gov/api/v2/agency/012/...</td>\n",
              "      <td>/api/v2/agency/&lt;TOPTIER_AGENCY_CODE&gt;/budget_fu...</td>\n",
              "      <td>GET</td>\n",
              "      <td>Returns the count of Budget Functions for the ...</td>\n",
              "      <td>agency_&lt;TOPTIER_AGENCY_CODE&gt;_budget_function_c...</td>\n",
              "    </tr>\n",
              "    <tr>\n",
              "      <th>3</th>\n",
              "      <td>https://api.usaspending.gov/api/v2/agency/012/...</td>\n",
              "      <td>/api/v2/agency/&lt;TOPTIER_AGENCY_CODE&gt;/budgetary...</td>\n",
              "      <td>GET</td>\n",
              "      <td>Returns budgetary resources and obligations fo...</td>\n",
              "      <td>agency_&lt;TOPTIER_AGENCY_CODE&gt;_budgetary_resources</td>\n",
              "    </tr>\n",
              "    <tr>\n",
              "      <th>4</th>\n",
              "      <td>https://api.usaspending.gov/api/v2/agency/012/...</td>\n",
              "      <td>/api/v2/agency/&lt;TOPTIER_AGENCY_CODE&gt;/federal_a...</td>\n",
              "      <td>GET</td>\n",
              "      <td>Returns a list of Federal Accounts and Treasur...</td>\n",
              "      <td>agency_&lt;TOPTIER_AGENCY_CODE&gt;_federal_account</td>\n",
              "    </tr>\n",
              "    <tr>\n",
              "      <th>...</th>\n",
              "      <td>...</td>\n",
              "      <td>...</td>\n",
              "      <td>...</td>\n",
              "      <td>...</td>\n",
              "      <td>...</td>\n",
              "    </tr>\n",
              "    <tr>\n",
              "      <th>128</th>\n",
              "      <td>https://api.usaspending.gov/api/v2/search/spen...</td>\n",
              "      <td>/api/v2/search/spending_over_time/</td>\n",
              "      <td>POST</td>\n",
              "      <td>Returns transaction aggregated amounts for Spe...</td>\n",
              "      <td>search_spending_over_time</td>\n",
              "    </tr>\n",
              "    <tr>\n",
              "      <th>129</th>\n",
              "      <td>https://api.usaspending.gov/api/v2/search/tran...</td>\n",
              "      <td>/api/v2/search/transaction_spending_summary/</td>\n",
              "      <td>POST</td>\n",
              "      <td>Returns the number of transactions and the sum...</td>\n",
              "      <td>search_transaction_spending_summary</td>\n",
              "    </tr>\n",
              "    <tr>\n",
              "      <th>130</th>\n",
              "      <td>https://api.usaspending.gov/api/v2/spending/</td>\n",
              "      <td>/api/v2/spending/</td>\n",
              "      <td>POST</td>\n",
              "      <td>Returns spending data information through vari...</td>\n",
              "      <td>spending</td>\n",
              "    </tr>\n",
              "    <tr>\n",
              "      <th>131</th>\n",
              "      <td>https://api.usaspending.gov/api/v2/subawards/</td>\n",
              "      <td>/api/v2/subawards/</td>\n",
              "      <td>POST</td>\n",
              "      <td>Returns subawards either related, optionally, ...</td>\n",
              "      <td>subawards</td>\n",
              "    </tr>\n",
              "    <tr>\n",
              "      <th>132</th>\n",
              "      <td>https://api.usaspending.gov/api/v2/transactions/</td>\n",
              "      <td>/api/v2/transactions/</td>\n",
              "      <td>POST</td>\n",
              "      <td>Returns transactions related to a specific par...</td>\n",
              "      <td>transactions</td>\n",
              "    </tr>\n",
              "  </tbody>\n",
              "</table>\n",
              "<p>133 rows × 5 columns</p>\n",
              "</div>"
            ],
            "text/plain": [
              "                                          url_test_api  ...                                    Endpoint_Labels\n",
              "0       https://api.usaspending.gov/api/v2/agency/012/  ...                       agency_<TOPTIER_AGENCY_CODE>\n",
              "1    https://api.usaspending.gov/api/v2/agency/012/...  ...       agency_<TOPTIER_AGENCY_CODE>_budget_function\n",
              "2    https://api.usaspending.gov/api/v2/agency/012/...  ...  agency_<TOPTIER_AGENCY_CODE>_budget_function_c...\n",
              "3    https://api.usaspending.gov/api/v2/agency/012/...  ...   agency_<TOPTIER_AGENCY_CODE>_budgetary_resources\n",
              "4    https://api.usaspending.gov/api/v2/agency/012/...  ...       agency_<TOPTIER_AGENCY_CODE>_federal_account\n",
              "..                                                 ...  ...                                                ...\n",
              "128  https://api.usaspending.gov/api/v2/search/spen...  ...                          search_spending_over_time\n",
              "129  https://api.usaspending.gov/api/v2/search/tran...  ...                search_transaction_spending_summary\n",
              "130       https://api.usaspending.gov/api/v2/spending/  ...                                           spending\n",
              "131      https://api.usaspending.gov/api/v2/subawards/  ...                                          subawards\n",
              "132   https://api.usaspending.gov/api/v2/transactions/  ...                                       transactions\n",
              "\n",
              "[133 rows x 5 columns]"
            ]
          },
          "metadata": {
            "tags": []
          },
          "execution_count": 4
        }
      ]
    },
    {
      "cell_type": "markdown",
      "metadata": {
        "id": "ktcB5g-ExA8h"
      },
      "source": [
        "This following Python code defines a Python object class for accessing a limited number of the USAspending API features. It can easily be extended and improved."
      ]
    },
    {
      "cell_type": "code",
      "metadata": {
        "id": "M-ikYk1N2b5r"
      },
      "source": [
        "class USAspending(): \n",
        "#TODO: refactor and simplify the code (the code in several of the methods is redundant and should be streamlined) for maintainability \n",
        "#TODO: add more tests to confirm it is working correctly and reliably\n",
        "\n",
        "    url_root = 'https://api.usaspending.gov' #!! note it is api.usaspending.gov NOT www.usaspending.gov\n",
        "    api = {}\n",
        "    api['parent_child'] = '/api/v2/recipient/children/' #'/DUNS'\n",
        "    api['recipient_spending_category'] = '/api/v2/search/spending_by_category/recipient_duns/'\n",
        "    api['recipient_overview'] = \"/api/v2/recipient/duns/\"\n",
        "    api['autocomplete_psc'] = \"/api/v2/autocomplete/funding_psc/\"\n",
        "    api['autocomplete_funding_agency'] = \"/api/v2/autocomplete/funding_agency/\"\n",
        "    api['autocomplete_glossary'] = \"/api/v2/autocomplete/glossary/\"\n",
        "    api['bulk_download_awards'] = \"/api/v2/bulk_download/awards/\"\n",
        "    api['bulk_download_list_agencies'] = \"/api/v2/bulk_download/list_agencies/\"\n",
        "    api['bulk_download_status'] = \"/api/v2/bulk_download/status/\"\n",
        "    \n",
        "    USER_AGENT = \"Mozilla/5.0 (Macintosh; Intel Mac OS X 10.14; rv:65.0) Gecko/20100101 Firefox/65.0\"\n",
        "    USER_AGENT = \"XY\" #solves 406 error on redirect of the biden mailer click link # \n",
        "    headers = {\"user-agent\" : USER_AGENT}\n",
        "\n",
        "    def __init__(self,):\n",
        "        pass # this __init__ can include variables set up at the creation of the object for this class, TBD\n",
        "    \n",
        "    def Get_URL_API(self, api_name, contents=\"\"):\n",
        "        if contents == '':\n",
        "          return self.url_root + self.api[api_name]\n",
        "        else:\n",
        "          return self.url_root + self.api[api_name] + contents + '/'\n",
        "               \n",
        "    def API_Check_Status(self, requests_response):\n",
        "        #print(requests_response)\n",
        "        if requests_response.status_code == 200:\n",
        "            return json.loads(requests_response.content)\n",
        "        else:\n",
        "            return \"Error - response:\", requests_response.status_code, requests_response.reason\n",
        "\n",
        "    def API_Get_Parent_Child_Details_Using_DUNS(self, aDUNS):   \n",
        "\n",
        "        api_name = 'parent_child'\n",
        "        url_api = self.Get_URL_API(api_name, contents = aDUNS)\n",
        "        #print(url_api)\n",
        "        r = requests.get(url_api)\n",
        "        #print(r)\n",
        "\n",
        "        return self.API_Check_Status(r)\n",
        "\n",
        "    def API_Overview_Recipient_ID(self, recipient_id):\n",
        "\n",
        "        api_name = 'recipient_overview'\n",
        "        url_api = self.Get_URL_API(api_name, contents = recipient_id)\n",
        "\n",
        "        #print(url_api)\n",
        "        r = requests.get(url_api, headers= self.headers)\n",
        "        #print(r)\n",
        "        return self.API_Check_Status(r)\n",
        "\n",
        "\n",
        "    def API_Name_Search(self, pattern):\n",
        "        print(\"...querying USAspending.gov API...\")\n",
        "        \n",
        "        api_name = 'recipient_spending_category'\n",
        "        url_api = self.Get_URL_API(api_name)\n",
        "\n",
        "        #print(url_api)\n",
        "        page = 1\n",
        "        next_page = True\n",
        "        \n",
        "        results = []\n",
        "        \n",
        "        while next_page:\n",
        "            print(f'page:{page}', end=\",\")\n",
        "            payload = {\"page\" : page, \"filters\": {\"recipient_search_text\": [pattern]}}\n",
        "            r = requests.post(url_api, json=payload) # note this is a POST\n",
        "            #print(r)\n",
        "            result_record = API_Check_Status(r)\n",
        "            results.append(result_record)\n",
        "        \n",
        "        # insert code here (turn it into a function) that keeps reading pages until 'hasNext' == False\n",
        "            page += 1\n",
        "            next_page = result_record['page_metadata']['hasNext']\n",
        "        \n",
        "        self.name_search_results = results\n",
        "        \n",
        "        return self.API_Check_Status(r)\n",
        "\n",
        "    def Autocomplete_psc(self, search_text):\n",
        "      return\n",
        "\n",
        "    def Autocomplete_funding_agency(self, search_text):\n",
        "      headers = {'Content-Type': 'application/json'}\n",
        "      payload = {'search_text' : search_text}\n",
        "      api_name = 'autocomplete_funding_agency'\n",
        "      url_api = self.Get_URL_API(api_name)\n",
        "      r = requests.post(url_api, headers= headers, json=payload)\n",
        "      return self.API_Check_Status(r)\n",
        "\n",
        "    def Autocomplete_glossary(self, search_text):\n",
        "      payload = {'search_text' : search_text}\n",
        "      api_name = 'autocomplete_glossary'\n",
        "      url_api = self.Get_URL_API(api_name)\n",
        "      r = requests.post(url_api, json=payload)\n",
        "      return self.API_Check_Status(r)\n",
        "\n",
        "    \n",
        "    def Bulk_Download(self, body = {}):\n",
        "      headers = {'Content-Type': 'application/json'}\n",
        "      payload = body\n",
        "      print(f\"body: {body}\")\n",
        "      api_name = \"bulk_download_awards\"\n",
        "      url_api = self.Get_URL_API(api_name)\n",
        "      print(f\"url_api: {url_api}\")\n",
        "\n",
        "      r = requests.post(url_api, headers=headers, json=payload)\n",
        "      return self.API_Check_Status(r)\n",
        "\n",
        "    def Bulk_Download_list_agencies(self, body = {}):\n",
        "      headers = {'Content-Type': 'application/json'}\n",
        "      payload = body\n",
        "      print(f\"body: {body}\")\n",
        "      api_name = \"bulk_download_list_agencies\"\n",
        "      url_api = self.Get_URL_API(api_name)\n",
        "      print(f\"url_api: {url_api}\")\n",
        "\n",
        "      r = requests.post(url_api, headers= headers, json=payload)\n",
        "      return self.API_Check_Status(r)\n",
        "\n",
        "    def Bulk_Download_status(self, body = {}):\n",
        "      headers = {'Content-Type': 'application/json'}\n",
        "      payload = body\n",
        "      print(f\"body: {body}\")\n",
        "      api_name = 'bulk_download_status'\n",
        "      url_api = self.Get_URL_API(api_name) + \"?file_name=\" + body['file_name']\n",
        "      print(f\"url_api: {url_api}\")\n",
        "\n",
        "      r = requests.get(url_api) #! GET not POST\n",
        "      return self.API_Check_Status(r)\n",
        "    \n",
        "    def API_Process_POST_Response(self, api_post_json):\n",
        "\n",
        "        return_value = []\n",
        "        #print(api_post_json.keys())\n",
        "        next_page = api_post_json['page_metadata']['hasNext'] #!!!TODO change this to handle MULTIPLE Pages\n",
        "        results = api_post_json['results']\n",
        "        print(f\"results:{results}\")\n",
        "        parent_id_list = []\n",
        "        for recipient in results:\n",
        "            info_record = self.API_Overview_Recipient_ID(recipient['recipient_id'])\n",
        "            return_value.append(info_record)\n",
        "            if info_record['parent_id']: #adds the parent to the records returned\n",
        "\n",
        "                if not info_record['parent_id'] in parent_id_list:\n",
        "                    return_value.append(self.API_Overview_Recipient_ID(info_record['parent_id']))\n",
        "                    parent_id_list.append(info_record['parent_id'])\n",
        "\n",
        "        return pd.DataFrame(return_value)\n",
        "\n",
        "    #### END CLASS"
      ],
      "execution_count": null,
      "outputs": []
    },
    {
      "cell_type": "markdown",
      "metadata": {
        "id": "_NUAF2K3yFt1"
      },
      "source": [
        "### Create an Object Instance of the USAspending class to begin the process of searching and downloading data from USAspending.gov"
      ]
    },
    {
      "cell_type": "code",
      "metadata": {
        "id": "5XgB8WIh2vcg"
      },
      "source": [
        "spending = USAspending()"
      ],
      "execution_count": null,
      "outputs": []
    },
    {
      "cell_type": "markdown",
      "metadata": {
        "id": "2BbgPlNJypc3"
      },
      "source": [
        "Confirm the object and interface is working with the next step. If it is working there will be NO ERROR message."
      ]
    },
    {
      "cell_type": "code",
      "metadata": {
        "id": "Y2eZM7Wb4K4j"
      },
      "source": [
        "#test interface\n",
        "assert spending.Autocomplete_glossary(\"award\")['matched_terms'][0] == {'data_act_term': None,\n",
        " 'official': None,\n",
        " 'plain': 'Money the federal government has promised to pay a recipient. Funding may be awarded to a company, organization, government entity (i.e., state, local, tribal, federal, or foreign), or individual. It may be obligated (promised) in the form of a contract, grant, loan, insurance, direct payment, etc.',\n",
        " 'resources': None,\n",
        " 'slug': 'award',\n",
        " 'term': 'Award'}"
      ],
      "execution_count": null,
      "outputs": []
    },
    {
      "cell_type": "markdown",
      "metadata": {
        "id": "uxTFZ4SAy4az"
      },
      "source": [
        "We will automate the manual process I used in [this blog post](https://medium.com/@lulstrup/gaining-an-analytics-edge-using-federal-spending-open-data-7cc69a063c68) and search for Government Fiscal Year (GFY) 2019 contract (not grants etc) spending at [CMS.gov](https://www.cms.gov/). We need to understand the underlying data structure of the way USAspending.gov stores data and the id's it uses for certain entities before we can construct our query for the search and download process."
      ]
    },
    {
      "cell_type": "code",
      "metadata": {
        "id": "e7dhsmWR4Dl6",
        "outputId": "f8fde1ff-3d3f-4041-a879-a3e92b280896",
        "colab": {
          "base_uri": "https://localhost:8080/",
          "height": 136
        }
      },
      "source": [
        "CMS_agency_id_info = spending.Autocomplete_funding_agency(\"Centers for Medicare \")\n",
        "CMS_agency_id_info"
      ],
      "execution_count": null,
      "outputs": [
        {
          "output_type": "execute_result",
          "data": {
            "text/plain": [
              "{'results': [{'id': 831,\n",
              "   'subtier_agency': {'abbreviation': 'CMS',\n",
              "    'name': 'Centers for Medicare and Medicaid Services'},\n",
              "   'toptier_agency': {'abbreviation': 'HHS',\n",
              "    'name': 'Department of Health and Human Services',\n",
              "    'toptier_code': '075'},\n",
              "   'toptier_flag': False}]}"
            ]
          },
          "metadata": {
            "tags": []
          },
          "execution_count": 246
        }
      ]
    },
    {
      "cell_type": "markdown",
      "metadata": {
        "id": "hDW7eM-I0Cxm"
      },
      "source": [
        "We can find the'toptier_agency_id' for the Departments (such as CMS' parent HHS - Health and Human Services) and independent Agencies."
      ]
    },
    {
      "cell_type": "code",
      "metadata": {
        "id": "VxcA3s4uP_xA",
        "outputId": "b1ee6e99-1455-4f4e-975f-73ac0045d54d",
        "colab": {
          "base_uri": "https://localhost:8080/",
          "height": 1000
        }
      },
      "source": [
        "body = {\n",
        "\"type\":\"account_agencies\"\n",
        "}\n",
        "list_departments_independent_agencies = spending.Bulk_Download_list_agencies(body = body)\n",
        "list_departments_independent_agencies"
      ],
      "execution_count": null,
      "outputs": [
        {
          "output_type": "stream",
          "text": [
            "body: {'type': 'account_agencies'}\n",
            "url_api: https://api.usaspending.gov/api/v2/bulk_download/list_agencies/\n"
          ],
          "name": "stdout"
        },
        {
          "output_type": "execute_result",
          "data": {
            "text/plain": [
              "{'agencies': {'cfo_agencies': [{'name': 'Department of Agriculture',\n",
              "    'toptier_agency_id': 14,\n",
              "    'toptier_code': '012'},\n",
              "   {'name': 'Department of Commerce',\n",
              "    'toptier_agency_id': 15,\n",
              "    'toptier_code': '013'},\n",
              "   {'name': 'Department of Defense',\n",
              "    'toptier_agency_id': 126,\n",
              "    'toptier_code': '097'},\n",
              "   {'name': 'Department of Education',\n",
              "    'toptier_agency_id': 80,\n",
              "    'toptier_code': '091'},\n",
              "   {'name': 'Department of Energy',\n",
              "    'toptier_agency_id': 78,\n",
              "    'toptier_code': '089'},\n",
              "   {'name': 'Department of Health and Human Services',\n",
              "    'toptier_agency_id': 68,\n",
              "    'toptier_code': '075'},\n",
              "   {'name': 'Department of Homeland Security',\n",
              "    'toptier_agency_id': 63,\n",
              "    'toptier_code': '070'},\n",
              "   {'name': 'Department of Housing and Urban Development',\n",
              "    'toptier_agency_id': 76,\n",
              "    'toptier_code': '086'},\n",
              "   {'name': 'Department of Justice',\n",
              "    'toptier_agency_id': 17,\n",
              "    'toptier_code': '015'},\n",
              "   {'name': 'Department of Labor',\n",
              "    'toptier_agency_id': 18,\n",
              "    'toptier_code': '1601'},\n",
              "   {'name': 'Department of State',\n",
              "    'toptier_agency_id': 21,\n",
              "    'toptier_code': '019'},\n",
              "   {'name': 'Department of the Interior',\n",
              "    'toptier_agency_id': 16,\n",
              "    'toptier_code': '014'},\n",
              "   {'name': 'Department of the Treasury',\n",
              "    'toptier_agency_id': 22,\n",
              "    'toptier_code': '020'},\n",
              "   {'name': 'Department of Transportation',\n",
              "    'toptier_agency_id': 62,\n",
              "    'toptier_code': '069'},\n",
              "   {'name': 'Department of Veterans Affairs',\n",
              "    'toptier_agency_id': 37,\n",
              "    'toptier_code': '036'},\n",
              "   {'name': 'Environmental Protection Agency',\n",
              "    'toptier_agency_id': 61,\n",
              "    'toptier_code': '068'},\n",
              "   {'name': 'General Services Administration',\n",
              "    'toptier_agency_id': 40,\n",
              "    'toptier_code': '047'},\n",
              "   {'name': 'National Aeronautics and Space Administration',\n",
              "    'toptier_agency_id': 72,\n",
              "    'toptier_code': '080'},\n",
              "   {'name': 'National Science Foundation',\n",
              "    'toptier_agency_id': 46,\n",
              "    'toptier_code': '049'},\n",
              "   {'name': 'Nuclear Regulatory Commission',\n",
              "    'toptier_agency_id': 31,\n",
              "    'toptier_code': '031'},\n",
              "   {'name': 'Office of Personnel Management',\n",
              "    'toptier_agency_id': 24,\n",
              "    'toptier_code': '024'},\n",
              "   {'name': 'Small Business Administration',\n",
              "    'toptier_agency_id': 66,\n",
              "    'toptier_code': '073'},\n",
              "   {'name': 'Social Security Administration',\n",
              "    'toptier_agency_id': 28,\n",
              "    'toptier_code': '028'},\n",
              "   {'name': 'Agency for International Development',\n",
              "    'toptier_agency_id': 65,\n",
              "    'toptier_code': '072'}],\n",
              "  'other_agencies': [{'name': 'Access Board',\n",
              "    'toptier_agency_id': 102,\n",
              "    'toptier_code': '310'},\n",
              "   {'name': 'Administrative Conference of the U.S.',\n",
              "    'toptier_agency_id': 92,\n",
              "    'toptier_code': '302'},\n",
              "   {'name': 'Advisory Council on Historic Preservation',\n",
              "    'toptier_agency_id': 100,\n",
              "    'toptier_code': '306'},\n",
              "   {'name': 'African Development Foundation',\n",
              "    'toptier_agency_id': 10,\n",
              "    'toptier_code': '1136'},\n",
              "   {'name': 'American Battle Monuments Commission',\n",
              "    'toptier_agency_id': 67,\n",
              "    'toptier_code': '074'},\n",
              "   {'name': 'Appalachian Regional Commission',\n",
              "    'toptier_agency_id': 129,\n",
              "    'toptier_code': '309'},\n",
              "   {'name': 'Armed Forces Retirement Home',\n",
              "    'toptier_agency_id': 75,\n",
              "    'toptier_code': '084'},\n",
              "   {'name': 'Barry Goldwater Scholarship and Excellence In Education Foundation',\n",
              "    'toptier_agency_id': 114,\n",
              "    'toptier_code': '313'},\n",
              "   {'name': \"Commission for the Preservation of America's Heritage Abroad\",\n",
              "    'toptier_agency_id': 139,\n",
              "    'toptier_code': '321'},\n",
              "   {'name': 'Commission of Fine Arts',\n",
              "    'toptier_agency_id': 105,\n",
              "    'toptier_code': '323'},\n",
              "   {'name': 'Commission on Civil Rights',\n",
              "    'toptier_agency_id': 94,\n",
              "    'toptier_code': '326'},\n",
              "   {'name': 'Committee for Purchase from People Who Are Blind or Severely Disabled',\n",
              "    'toptier_agency_id': 95,\n",
              "    'toptier_code': '338'},\n",
              "   {'name': 'Commodity Futures Trading Commission',\n",
              "    'toptier_agency_id': 85,\n",
              "    'toptier_code': '339'},\n",
              "   {'name': 'Consumer Financial Protection Bureau',\n",
              "    'toptier_agency_id': 113,\n",
              "    'toptier_code': '581'},\n",
              "   {'name': 'Consumer Product Safety Commission',\n",
              "    'toptier_agency_id': 56,\n",
              "    'toptier_code': '061'},\n",
              "   {'name': 'Corporation for National and Community Service',\n",
              "    'toptier_agency_id': 121,\n",
              "    'toptier_code': '485'},\n",
              "   {'name': 'Corps of Engineers - Civil Works',\n",
              "    'toptier_agency_id': 128,\n",
              "    'toptier_code': '096'},\n",
              "   {'name': 'Court Services and Offender Supervision Agency',\n",
              "    'toptier_agency_id': 125,\n",
              "    'toptier_code': '511'},\n",
              "   {'name': 'Defense Nuclear Facilities Safety Board',\n",
              "    'toptier_agency_id': 93,\n",
              "    'toptier_code': '347'},\n",
              "   {'name': 'Delta Regional Authority',\n",
              "    'toptier_agency_id': 111,\n",
              "    'toptier_code': '517'},\n",
              "   {'name': 'Denali Commission',\n",
              "    'toptier_agency_id': 120,\n",
              "    'toptier_code': '513'},\n",
              "   {'name': 'District of Columbia Courts',\n",
              "    'toptier_agency_id': 168,\n",
              "    'toptier_code': '349'},\n",
              "   {'name': 'Election Assistance Commission',\n",
              "    'toptier_agency_id': 97,\n",
              "    'toptier_code': '525'},\n",
              "   {'name': 'Equal Employment Opportunity Commission',\n",
              "    'toptier_agency_id': 39,\n",
              "    'toptier_code': '045'},\n",
              "   {'name': 'Executive Office of the President',\n",
              "    'toptier_agency_id': 9,\n",
              "    'toptier_code': '1100'},\n",
              "   {'name': 'Export-Import Bank of the United States',\n",
              "    'toptier_agency_id': 74,\n",
              "    'toptier_code': '083'},\n",
              "   {'name': 'Farm Credit System Insurance Corporation',\n",
              "    'toptier_agency_id': 71,\n",
              "    'toptier_code': '7802'},\n",
              "   {'name': 'Federal Communications Commission',\n",
              "    'toptier_agency_id': 27,\n",
              "    'toptier_code': '027'},\n",
              "   {'name': 'Federal Deposit Insurance Corporation',\n",
              "    'toptier_agency_id': 49,\n",
              "    'toptier_code': '051'},\n",
              "   {'name': 'Federal Election Commission',\n",
              "    'toptier_agency_id': 84,\n",
              "    'toptier_code': '360'},\n",
              "   {'name': 'Federal Financial Institutions Examination Council',\n",
              "    'toptier_agency_id': 116,\n",
              "    'toptier_code': '362'},\n",
              "   {'name': 'Federal Labor Relations Authority',\n",
              "    'toptier_agency_id': 51,\n",
              "    'toptier_code': '054'},\n",
              "   {'name': 'Federal Maritime Commission',\n",
              "    'toptier_agency_id': 60,\n",
              "    'toptier_code': '065'},\n",
              "   {'name': 'Federal Mediation and Conciliation Service',\n",
              "    'toptier_agency_id': 81,\n",
              "    'toptier_code': '093'},\n",
              "   {'name': 'Federal Mine Safety and Health Review Commission',\n",
              "    'toptier_agency_id': 83,\n",
              "    'toptier_code': '368'},\n",
              "   {'name': 'Federal Permitting Improvement Council',\n",
              "    'toptier_agency_id': 182,\n",
              "    'toptier_code': '473'},\n",
              "   {'name': 'Federal Trade Commission',\n",
              "    'toptier_agency_id': 29,\n",
              "    'toptier_code': '029'},\n",
              "   {'name': 'Government Accountability Office',\n",
              "    'toptier_agency_id': 5,\n",
              "    'toptier_code': '005'},\n",
              "   {'name': 'Gulf Coast Ecosystem Restoration Council',\n",
              "    'toptier_agency_id': 103,\n",
              "    'toptier_code': '471'},\n",
              "   {'name': 'Harry S Truman Scholarship Foundation',\n",
              "    'toptier_agency_id': 87,\n",
              "    'toptier_code': '372'},\n",
              "   {'name': 'Institute of Museum and Library Services',\n",
              "    'toptier_agency_id': 136,\n",
              "    'toptier_code': '474'},\n",
              "   {'name': 'Inter-American Foundation',\n",
              "    'toptier_agency_id': 11,\n",
              "    'toptier_code': '1130'},\n",
              "   {'name': 'International Trade Commission',\n",
              "    'toptier_agency_id': 36,\n",
              "    'toptier_code': '034'},\n",
              "   {'name': 'James Madison Memorial Fellowship Foundation',\n",
              "    'toptier_agency_id': 107,\n",
              "    'toptier_code': '381'},\n",
              "   {'name': 'Japan-United States Friendship Commission',\n",
              "    'toptier_agency_id': 89,\n",
              "    'toptier_code': '382'},\n",
              "   {'name': 'John F. Kennedy Center for the Performing Arts',\n",
              "    'toptier_agency_id': 34,\n",
              "    'toptier_code': '3301'},\n",
              "   {'name': 'Marine Mammal Commission',\n",
              "    'toptier_agency_id': 90,\n",
              "    'toptier_code': '387'},\n",
              "   {'name': 'Merit Systems Protection Board',\n",
              "    'toptier_agency_id': 38,\n",
              "    'toptier_code': '389'},\n",
              "   {'name': 'Millennium Challenge Corporation',\n",
              "    'toptier_agency_id': 109,\n",
              "    'toptier_code': '524'},\n",
              "   {'name': 'Morris K. Udall and Stewart L. Udall Foundation',\n",
              "    'toptier_agency_id': 110,\n",
              "    'toptier_code': '487'},\n",
              "   {'name': 'National Archives and Records Administration',\n",
              "    'toptier_agency_id': 77,\n",
              "    'toptier_code': '088'},\n",
              "   {'name': 'National Capital Planning Commission',\n",
              "    'toptier_agency_id': 82,\n",
              "    'toptier_code': '394'},\n",
              "   {'name': 'National Council on Disability',\n",
              "    'toptier_agency_id': 130,\n",
              "    'toptier_code': '413'},\n",
              "   {'name': 'National Credit Union Administration',\n",
              "    'toptier_agency_id': 25,\n",
              "    'toptier_code': '025'},\n",
              "   {'name': 'National Endowment for the Arts',\n",
              "    'toptier_agency_id': 53,\n",
              "    'toptier_code': '417'},\n",
              "   {'name': 'National Endowment for the Humanities',\n",
              "    'toptier_agency_id': 54,\n",
              "    'toptier_code': '418'},\n",
              "   {'name': 'National Labor Relations Board',\n",
              "    'toptier_agency_id': 58,\n",
              "    'toptier_code': '420'},\n",
              "   {'name': 'National Mediation Board',\n",
              "    'toptier_agency_id': 98,\n",
              "    'toptier_code': '421'},\n",
              "   {'name': 'National Transportation Safety Board',\n",
              "    'toptier_agency_id': 86,\n",
              "    'toptier_code': '424'},\n",
              "   {'name': 'Northern Border Regional Commission',\n",
              "    'toptier_agency_id': 144,\n",
              "    'toptier_code': '573'},\n",
              "   {'name': 'Nuclear Waste Technical Review Board',\n",
              "    'toptier_agency_id': 45,\n",
              "    'toptier_code': '431'},\n",
              "   {'name': 'Occupational Safety and Health Review Commission',\n",
              "    'toptier_agency_id': 91,\n",
              "    'toptier_code': '432'},\n",
              "   {'name': 'Office of Government Ethics',\n",
              "    'toptier_agency_id': 112,\n",
              "    'toptier_code': '434'},\n",
              "   {'name': 'Office of Navajo and Hopi Indian Relocation',\n",
              "    'toptier_agency_id': 43,\n",
              "    'toptier_code': '435'},\n",
              "   {'name': 'Office of Special Counsel',\n",
              "    'toptier_agency_id': 57,\n",
              "    'toptier_code': '062'},\n",
              "   {'name': 'Overseas Private Investment Corporation',\n",
              "    'toptier_agency_id': 64,\n",
              "    'toptier_code': '071'},\n",
              "   {'name': 'Patient-Centered Outcomes Research Trust Fund',\n",
              "    'toptier_agency_id': 159,\n",
              "    'toptier_code': '579'},\n",
              "   {'name': 'Peace Corps', 'toptier_agency_id': 12, 'toptier_code': '1125'},\n",
              "   {'name': 'Pension Benefit Guaranty Corporation',\n",
              "    'toptier_agency_id': 19,\n",
              "    'toptier_code': '1602'},\n",
              "   {'name': 'Privacy and Civil Liberties Oversight Board',\n",
              "    'toptier_agency_id': 99,\n",
              "    'toptier_code': '535'},\n",
              "   {'name': 'Public Buildings Reform Board',\n",
              "    'toptier_agency_id': 173,\n",
              "    'toptier_code': '290'},\n",
              "   {'name': 'Railroad Retirement Board',\n",
              "    'toptier_agency_id': 55,\n",
              "    'toptier_code': '060'},\n",
              "   {'name': 'Securities and Exchange Commission',\n",
              "    'toptier_agency_id': 47,\n",
              "    'toptier_code': '050'},\n",
              "   {'name': 'Selective Service System',\n",
              "    'toptier_agency_id': 79,\n",
              "    'toptier_code': '090'},\n",
              "   {'name': 'Surface Transportation Board',\n",
              "    'toptier_agency_id': 135,\n",
              "    'toptier_code': '472'},\n",
              "   {'name': 'The Council of the Inspectors General on Integrity and Efficiency',\n",
              "    'toptier_agency_id': 88,\n",
              "    'toptier_code': '542'},\n",
              "   {'name': 'U.S. Agency for Global Media',\n",
              "    'toptier_agency_id': 118,\n",
              "    'toptier_code': '514'},\n",
              "   {'name': 'U.S. Interagency Council on Homelessness',\n",
              "    'toptier_agency_id': 44,\n",
              "    'toptier_code': '376'},\n",
              "   {'name': 'United States Chemical Safety Board',\n",
              "    'toptier_agency_id': 117,\n",
              "    'toptier_code': '510'},\n",
              "   {'name': 'United States Court of Appeals for Veterans Claims',\n",
              "    'toptier_agency_id': 124,\n",
              "    'toptier_code': '345'},\n",
              "   {'name': 'United States Trade and Development Agency',\n",
              "    'toptier_agency_id': 13,\n",
              "    'toptier_code': '1133'},\n",
              "   {'name': 'Vietnam Education Foundation',\n",
              "    'toptier_agency_id': 131,\n",
              "    'toptier_code': '519'}]},\n",
              " 'sub_agencies': []}"
            ]
          },
          "metadata": {
            "tags": []
          },
          "execution_count": 9
        }
      ]
    },
    {
      "cell_type": "markdown",
      "metadata": {
        "id": "gFX_4c5u0j-C"
      },
      "source": [
        "We need the 'toptier_agency_id' for 'Department of Health and Human Services' and can find it quickly with a Python '[list comprehension](https://realpython.com/list-comprehension-python/)'."
      ]
    },
    {
      "cell_type": "code",
      "metadata": {
        "id": "huAjTJc0sO3m",
        "outputId": "81eaceb2-9a95-495b-946e-7d010e9fbbca",
        "colab": {
          "base_uri": "https://localhost:8080/",
          "height": 68
        }
      },
      "source": [
        "[record for record in list_departments_independent_agencies['agencies']['cfo_agencies'] if record['name'] == 'Department of Health and Human Services']"
      ],
      "execution_count": null,
      "outputs": [
        {
          "output_type": "execute_result",
          "data": {
            "text/plain": [
              "[{'name': 'Department of Health and Human Services',\n",
              "  'toptier_agency_id': 68,\n",
              "  'toptier_code': '075'}]"
            ]
          },
          "metadata": {
            "tags": []
          },
          "execution_count": 10
        }
      ]
    },
    {
      "cell_type": "markdown",
      "metadata": {
        "id": "zDN1Ykdr07ek"
      },
      "source": [
        "Now that we now the 'toptier_agency_id' for 'Department of Health and Human Services', we can look for the 'subtier_agency_name' for CMS to make sure it is spelled as we expect - 'Centers for Medicare and Medicaid Services'. Note that you will see other HHS Agencies such as NIH, FDA, and CDC and can change variables below to search and download those files too."
      ]
    },
    {
      "cell_type": "code",
      "metadata": {
        "id": "DM-Mt1NLsEHD",
        "outputId": "23cef7e7-f77a-4773-8dc4-73d961af0e7b",
        "colab": {
          "base_uri": "https://localhost:8080/",
          "height": 544
        }
      },
      "source": [
        "body = {\n",
        "\"type\":\"account_agencies\",\n",
        "\"agency\" : 68\n",
        "}\n",
        "list_agencies = spending.Bulk_Download_list_agencies(body = body)\n",
        "list_agencies"
      ],
      "execution_count": null,
      "outputs": [
        {
          "output_type": "stream",
          "text": [
            "body: {'type': 'account_agencies', 'agency': 68}\n",
            "url_api: https://api.usaspending.gov/api/v2/bulk_download/list_agencies/\n"
          ],
          "name": "stdout"
        },
        {
          "output_type": "execute_result",
          "data": {
            "text/plain": [
              "{'agencies': [],\n",
              " 'sub_agencies': [{'subtier_agency_name': 'Administration for Children and Families'},\n",
              "  {'subtier_agency_name': 'Administration for Community Living'},\n",
              "  {'subtier_agency_name': 'Administration on Aging'},\n",
              "  {'subtier_agency_name': 'Agency for Healthcare Research and Quality'},\n",
              "  {'subtier_agency_name': 'Centers for Disease Control and Prevention'},\n",
              "  {'subtier_agency_name': 'Centers for Medicare and Medicaid Services'},\n",
              "  {'subtier_agency_name': 'Food and Drug Administration'},\n",
              "  {'subtier_agency_name': 'Health Resources and Services Administration'},\n",
              "  {'subtier_agency_name': 'Immediate Office of the Secretary'},\n",
              "  {'subtier_agency_name': 'Indian Health Service'},\n",
              "  {'subtier_agency_name': 'National Institutes of Health'},\n",
              "  {'subtier_agency_name': 'Office for Civil Rights'},\n",
              "  {'subtier_agency_name': 'Office of Assistant Secretary for Health'},\n",
              "  {'subtier_agency_name': 'Office of Assistant Secretary for Planning and Evaluation'},\n",
              "  {'subtier_agency_name': 'Office of Assistant Secretary for Preparedness and Response'},\n",
              "  {'subtier_agency_name': 'Office of Assistant Secretary for Public Affairs'},\n",
              "  {'subtier_agency_name': 'Office of Intergovernmental and External Affairs'},\n",
              "  {'subtier_agency_name': 'Office of Medicare Hearings and Appeals'},\n",
              "  {'subtier_agency_name': 'Office of Public Health and Science'},\n",
              "  {'subtier_agency_name': 'Office of the Assistant Secretary for Administration'},\n",
              "  {'subtier_agency_name': 'Office of the Assistant Secretary for Financial Resources'},\n",
              "  {'subtier_agency_name': 'Office of the General Counsel'},\n",
              "  {'subtier_agency_name': 'Office of the Inspector General'},\n",
              "  {'subtier_agency_name': 'Office of the National Coordinator for Health Information Technology'},\n",
              "  {'subtier_agency_name': 'Office of the Secretary'},\n",
              "  {'subtier_agency_name': 'Program Support Center'},\n",
              "  {'subtier_agency_name': 'Public Health Service'},\n",
              "  {'subtier_agency_name': 'Substance Abuse and Mental Health Services Administration'}]}"
            ]
          },
          "metadata": {
            "tags": []
          },
          "execution_count": 11
        }
      ]
    },
    {
      "cell_type": "markdown",
      "metadata": {
        "id": "Ttg5E8NZ1WqV"
      },
      "source": [
        "This is the query and download step for our query. We are asking USAspending.gov to find all prime contract obligation types in GFY2019 {\"start_date\": \"2018-10-01\",\"end_date\": \"2019-09-30\"} for CMS at HHS ('68') from variable list_departments_independent_agencies above. There are other optional fields for this query. You can find those [here](https://github.com/fedspendingtransparency/usaspending-api/blob/master/usaspending_api/api_contracts/contracts/v2/bulk_download/awards.md) and manually test them [here](https://api.usaspending.gov/api/v2/bulk_download/awards/)."
      ]
    },
    {
      "cell_type": "markdown",
      "metadata": {
        "id": "DluD9biP22z3"
      },
      "source": [
        "This next line of code kicks off a process at USAspending.gov (using their computing and storage resources) for a batch process that responds to your query and creates a link (I thinkit lasts for 24 hours) to a file you can download with your data (you can download the file multiple times for about 24 hours). Note that the speed of this process depends on the computing workload of the USAspending.gov computers at the time. I have found that the response times can vary for similar size queries. Once the download process starts, it sends back a message (JSON format which is a dictionary type of Python) with information on what happened (you can check it for error messages). We will use that information in the next step to automatically check every 20 seconds to see if the file is ready for download."
      ]
    },
    {
      "cell_type": "code",
      "metadata": {
        "id": "7ULDPWVpAtdr",
        "outputId": "a95cae70-332d-490f-a710-8f65535f98ef",
        "colab": {
          "base_uri": "https://localhost:8080/",
          "height": 717
        }
      },
      "source": [
        "body =  {\n",
        "      \"filters\": {\n",
        "          \"agency\": 68, #HHS\n",
        "          \"sub_agency\" : \"Centers for Medicare and Medicaid Services\",\n",
        "          \"prime_award_types\": [\n",
        "                                  \"IDV_A\",\n",
        "                                  \"IDV_B\",\n",
        "                                  \"IDV_B_A\",\n",
        "                                  \"IDV_B_B\",\n",
        "                                  \"IDV_B_C\",\n",
        "                                  \"IDV_C\",\n",
        "                                 \"IDV_D\",\n",
        "                                  \"IDV_E\",\n",
        "                                  \"02\",\n",
        "                                  \"03\",\n",
        "                                  \"04\",\n",
        "                                  \"05\",\n",
        "                                  \"06\",\n",
        "                                  \"07\",\n",
        "                                  \"08\",\n",
        "                                  \"09\",\n",
        "                                  \"10\",\n",
        "                                  \"11\",\n",
        "                                  \"A\",\n",
        "                                  \"B\",\n",
        "                                  \"C\",\n",
        "                                  \"D\",\n",
        "                              ],\n",
        "          #\"keyword\" : \"\", #optional\n",
        "          \"date_range\": {\n",
        "              \"start_date\": \"2018-10-01\",\n",
        "              \"end_date\": \"2019-09-30\"\n",
        "          },\n",
        "          \"date_type\": \"action_date\"\n",
        "      }\n",
        "  }\n",
        "download_info = spending.Bulk_Download(body = body)\n",
        "download_info"
      ],
      "execution_count": null,
      "outputs": [
        {
          "output_type": "stream",
          "text": [
            "body: {'filters': {'agency': 68, 'sub_agency': 'Centers for Medicare and Medicaid Services', 'prime_award_types': ['IDV_A', 'IDV_B', 'IDV_B_A', 'IDV_B_B', 'IDV_B_C', 'IDV_C', 'IDV_D', 'IDV_E', '02', '03', '04', '05', '06', '07', '08', '09', '10', '11', 'A', 'B', 'C', 'D'], 'date_range': {'start_date': '2018-10-01', 'end_date': '2019-09-30'}, 'date_type': 'action_date'}}\n",
            "url_api: https://api.usaspending.gov/api/v2/bulk_download/awards/\n"
          ],
          "name": "stdout"
        },
        {
          "output_type": "execute_result",
          "data": {
            "text/plain": [
              "{'download_request': {'agency': 68,\n",
              "  'columns': [],\n",
              "  'download_types': ['prime_awards'],\n",
              "  'file_format': 'csv',\n",
              "  'filters': {'agencies': [{'name': 'Centers for Medicare and Medicaid Services',\n",
              "     'tier': 'subtier',\n",
              "     'toptier_name': 'Department of Health and Human Services',\n",
              "     'type': 'awarding'}],\n",
              "   'prime_and_sub_award_types': {'prime_awards': ['02',\n",
              "     '03',\n",
              "     '04',\n",
              "     '05',\n",
              "     '06',\n",
              "     '07',\n",
              "     '08',\n",
              "     '09',\n",
              "     '10',\n",
              "     '11',\n",
              "     'A',\n",
              "     'B',\n",
              "     'C',\n",
              "     'D',\n",
              "     'IDV_A',\n",
              "     'IDV_B',\n",
              "     'IDV_B_A',\n",
              "     'IDV_B_B',\n",
              "     'IDV_B_C',\n",
              "     'IDV_C',\n",
              "     'IDV_D',\n",
              "     'IDV_E'],\n",
              "    'sub_awards': []},\n",
              "   'time_period': [{'date_type': 'action_date',\n",
              "     'end_date': '2019-09-30',\n",
              "     'start_date': '2018-10-01'}]},\n",
              "  'request_type': 'award'},\n",
              " 'file_name': '075_PrimeTransactions_2020-09-11_H11M44S54956752.zip',\n",
              " 'file_url': 'https://files.usaspending.gov/generated_downloads/075_PrimeTransactions_2020-09-11_H11M44S54956752.zip',\n",
              " 'status_url': 'https://api.usaspending.gov/api/v2/download/status?file_name=075_PrimeTransactions_2020-09-11_H11M44S54956752.zip'}"
            ]
          },
          "metadata": {
            "tags": []
          },
          "execution_count": 13
        }
      ]
    },
    {
      "cell_type": "markdown",
      "metadata": {
        "id": "re4D5crW3zuX"
      },
      "source": [
        "The process should have kicked off and you should see something that looks like:\n",
        "\n",
        "\n",
        "body: {'filters': {'agency': 68, 'sub_agency': 'Centers for Medicare and Medicaid Services', 'prime_award_types': ['IDV_A', 'IDV_B', 'IDV_B_A', 'IDV_B_B', 'IDV_B_C', 'IDV_C', 'IDV_D', 'IDV_E', '02', '03', '04', '05', '06', '07', '08', '09', '10', '11', 'A', 'B', 'C', 'D'], 'date_range': {'start_date': '2018-10-01', 'end_date': '2019-09-30'}, 'date_type': 'action_date'}}\n",
        "url_api: https://api.usaspending.gov/api/v2/bulk_download/awards/\n",
        "{'download_request': {'agency': 68,\n",
        "  'columns': [],\n",
        "  'download_types': ['prime_awards'],\n",
        "  'file_format': 'csv',\n",
        "  'filters': {'agencies': [{'name': 'Centers for Medicare and Medicaid Services',\n",
        "     'tier': 'subtier',\n",
        "     'toptier_name': 'Department of Health and Human Services',\n",
        "     'type': 'awarding'}],\n",
        "   'prime_and_sub_award_types': {'prime_awards': ['02',\n",
        "     '03',\n",
        "     '04',\n",
        "     '05',\n",
        "     '06',\n",
        "     '07',\n",
        "     '08',\n",
        "     '09',\n",
        "     '10',\n",
        "     '11',\n",
        "     'A',\n",
        "     'B',\n",
        "     'C',\n",
        "     'D',\n",
        "     'IDV_A',\n",
        "     'IDV_B',\n",
        "     'IDV_B_A',\n",
        "     'IDV_B_B',\n",
        "     'IDV_B_C',\n",
        "     'IDV_C',\n",
        "     'IDV_D',\n",
        "     'IDV_E'],\n",
        "    'sub_awards': []},\n",
        "   'time_period': [{'date_type': 'action_date',\n",
        "     'end_date': '2019-09-30',\n",
        "     'start_date': '2018-10-01'}]},\n",
        "  'request_type': 'award'},\n",
        " 'file_name': '075_PrimeTransactions_2020-09-11_H11M44S54956752.zip',\n",
        " 'file_url': 'https://files.usaspending.gov/generated_downloads/075_PrimeTransactions_2020-09-11_H11M44S54956752.zip',\n",
        " 'status_url': 'https://api.usaspending.gov/api/v2/download/status?file_name=075_PrimeTransactions_2020-09-11_H11M44S54956752.zip'}\n",
        "\n",
        "\n",
        "\n"
      ]
    },
    {
      "cell_type": "markdown",
      "metadata": {
        "id": "mICAljVn3_VP"
      },
      "source": [
        "This next step starts the polling process using the USAspending.gov API to check if the file has downloaded. I've set the wait to 20 seconds in time.sleep(20). You can change that. Also, note the method used here spending.Bulk_Download_status(body = body) is not very robust and does not test for error or other messages. This worked for constructing this demo but for more complex queries, it may need to add additional checks."
      ]
    },
    {
      "cell_type": "code",
      "metadata": {
        "id": "gTzibIjkpRUt",
        "outputId": "9a212352-60cb-4f6b-856c-77117f7ada71",
        "colab": {
          "base_uri": "https://localhost:8080/",
          "height": 595
        }
      },
      "source": [
        "download_file_name = download_info['file_name']\n",
        "\n",
        "body = {\n",
        "    'file_name' : download_file_name\n",
        "}\n",
        "\n",
        "download_status = spending.Bulk_Download_status(body = body)\n",
        "\n",
        "while download_status['status'] != 'finished':\n",
        "  print(datetime.now(),download_file_name, download_status['status'], f\"elapsed seconds: {download_status['seconds_elapsed']}\")\n",
        "  print('...sleeping...')\n",
        "  time.sleep(20)\n",
        "  download_status = spending.Bulk_Download_status(body = body)"
      ],
      "execution_count": null,
      "outputs": [
        {
          "output_type": "stream",
          "text": [
            "body: {'file_name': '075_PrimeTransactions_2020-09-11_H11M44S54956752.zip'}\n",
            "url_api: https://api.usaspending.gov/api/v2/bulk_download/status/?file_name=075_PrimeTransactions_2020-09-11_H11M44S54956752.zip\n",
            "2020-09-11 11:45:57.793476 075_PrimeTransactions_2020-09-11_H11M44S54956752.zip running elapsed seconds: 62.728054\n",
            "...sleeping...\n",
            "body: {'file_name': '075_PrimeTransactions_2020-09-11_H11M44S54956752.zip'}\n",
            "url_api: https://api.usaspending.gov/api/v2/bulk_download/status/?file_name=075_PrimeTransactions_2020-09-11_H11M44S54956752.zip\n",
            "2020-09-11 11:46:18.709020 075_PrimeTransactions_2020-09-11_H11M44S54956752.zip running elapsed seconds: 83.646966\n",
            "...sleeping...\n",
            "body: {'file_name': '075_PrimeTransactions_2020-09-11_H11M44S54956752.zip'}\n",
            "url_api: https://api.usaspending.gov/api/v2/bulk_download/status/?file_name=075_PrimeTransactions_2020-09-11_H11M44S54956752.zip\n",
            "2020-09-11 11:46:39.615938 075_PrimeTransactions_2020-09-11_H11M44S54956752.zip running elapsed seconds: 104.550925\n",
            "...sleeping...\n",
            "body: {'file_name': '075_PrimeTransactions_2020-09-11_H11M44S54956752.zip'}\n",
            "url_api: https://api.usaspending.gov/api/v2/bulk_download/status/?file_name=075_PrimeTransactions_2020-09-11_H11M44S54956752.zip\n",
            "2020-09-11 11:47:00.531136 075_PrimeTransactions_2020-09-11_H11M44S54956752.zip running elapsed seconds: 125.471047\n",
            "...sleeping...\n",
            "body: {'file_name': '075_PrimeTransactions_2020-09-11_H11M44S54956752.zip'}\n",
            "url_api: https://api.usaspending.gov/api/v2/bulk_download/status/?file_name=075_PrimeTransactions_2020-09-11_H11M44S54956752.zip\n",
            "2020-09-11 11:47:21.340078 075_PrimeTransactions_2020-09-11_H11M44S54956752.zip running elapsed seconds: 146.274324\n",
            "...sleeping...\n",
            "body: {'file_name': '075_PrimeTransactions_2020-09-11_H11M44S54956752.zip'}\n",
            "url_api: https://api.usaspending.gov/api/v2/bulk_download/status/?file_name=075_PrimeTransactions_2020-09-11_H11M44S54956752.zip\n",
            "2020-09-11 11:47:42.103117 075_PrimeTransactions_2020-09-11_H11M44S54956752.zip running elapsed seconds: 167.042526\n",
            "...sleeping...\n",
            "body: {'file_name': '075_PrimeTransactions_2020-09-11_H11M44S54956752.zip'}\n",
            "url_api: https://api.usaspending.gov/api/v2/bulk_download/status/?file_name=075_PrimeTransactions_2020-09-11_H11M44S54956752.zip\n",
            "2020-09-11 11:48:03.012703 075_PrimeTransactions_2020-09-11_H11M44S54956752.zip running elapsed seconds: 187.947698\n",
            "...sleeping...\n",
            "body: {'file_name': '075_PrimeTransactions_2020-09-11_H11M44S54956752.zip'}\n",
            "url_api: https://api.usaspending.gov/api/v2/bulk_download/status/?file_name=075_PrimeTransactions_2020-09-11_H11M44S54956752.zip\n",
            "2020-09-11 11:48:23.772378 075_PrimeTransactions_2020-09-11_H11M44S54956752.zip running elapsed seconds: 208.710254\n",
            "...sleeping...\n",
            "body: {'file_name': '075_PrimeTransactions_2020-09-11_H11M44S54956752.zip'}\n",
            "url_api: https://api.usaspending.gov/api/v2/bulk_download/status/?file_name=075_PrimeTransactions_2020-09-11_H11M44S54956752.zip\n"
          ],
          "name": "stdout"
        }
      ]
    },
    {
      "cell_type": "markdown",
      "metadata": {
        "id": "rrq1o7-35QUO"
      },
      "source": [
        "For reference, my example query that launched 2020-09-11 11:44 took about 4 minutes to complete. I've tried it at other times with varying response times that were much longer."
      ]
    },
    {
      "cell_type": "markdown",
      "metadata": {
        "id": "EYeVhlNe5SaP"
      },
      "source": [
        "Now that the file has been created on the USAspending.gov site, we can use the Python requests package and requests.get method to retrieve it on our local machine (cloud based machine if you are using the Google Colab notebook version of the .ipynb file). I download the file and then write it out to a file named the same as that created by the USAspending.gov system in the variable definition download_file_name = download_info['file_name'] above. I've done that to simplify traceability if we want to download additional files for other queries. You can name the file anything you want. I also use the !ls (jupyter notebook and colab built-in 'magics' extention) function to execute a linux query of that lists the files in the directory we are using on the local drive to confirm that our download and file save worked. For reference, my file was 1566951 bytes."
      ]
    },
    {
      "cell_type": "code",
      "metadata": {
        "id": "mHGiUp_pptBL",
        "outputId": "3d204ed0-bf57-4cee-b29d-ea3da40f4492",
        "colab": {
          "base_uri": "https://localhost:8080/",
          "height": 119
        }
      },
      "source": [
        "r = requests.get(download_info['file_url'], allow_redirects=True)\n",
        "\n",
        "with open(download_file_name, 'wb') as output:\n",
        "  output.write(r.content)\n",
        "\n",
        "!ls -al"
      ],
      "execution_count": null,
      "outputs": [
        {
          "output_type": "stream",
          "text": [
            "total 1548\n",
            "drwxr-xr-x 1 root root    4096 Sep 11 11:48 .\n",
            "drwxr-xr-x 1 root root    4096 Sep 11 10:59 ..\n",
            "-rw-r--r-- 1 root root 1566951 Sep 11 11:57 075_PrimeTransactions_2020-09-11_H11M44S54956752.zip\n",
            "drwxr-xr-x 1 root root    4096 Aug 31 16:13 .config\n",
            "drwxr-xr-x 1 root root    4096 Aug 27 16:39 sample_data\n"
          ],
          "name": "stdout"
        }
      ]
    },
    {
      "cell_type": "markdown",
      "metadata": {
        "id": "7r7aoBwj6qaH"
      },
      "source": [
        "The next line of code creates a Python function to clean up and enhance the file we created. I have learned from past experience, that it is critical to replace the NaN fields in the CSV file we just downloaded with a holding value ('UNSPECIFIED' in this case) to enable subsequent analytics groupby queries in [Python pandas](https://pandas.pydata.org/) below. I've also created PSC_Cat and PSC_Cat_2 columns to simplify querying and spending analysis by the [Federal Product or Service Codes](https://www.acquisition.gov/psc-manual) that define the types of work being performed within that contract obligation (e.g., 'D' for IT and Telecom type work, 'R' for Professional Services, and '70' for IT Hardware and Software)."
      ]
    },
    {
      "cell_type": "code",
      "metadata": {
        "id": "vYVH_k0gBYLB"
      },
      "source": [
        "def Enhance_Spending_File(df):\n",
        "  df = df.fillna(\"UNSPECIFIED\") # IMPORTANT - NA fields can affect groupby sums and other problems\n",
        "  df['PSC_Cat'] = df['product_or_service_code'].str[:1]\n",
        "  df['PSC_Cat_2'] = df['product_or_service_code'].str[:2]\n",
        "  return df"
      ],
      "execution_count": null,
      "outputs": []
    },
    {
      "cell_type": "markdown",
      "metadata": {
        "id": "9hkZbFA276YP"
      },
      "source": [
        "This next code unzips the compressed file we downloaded, finds the file with the 'Contracts' (if we added subcontracts or grants to the query above, we would have csv files inside the .zip file for those types of obligations also) and [reads that csv](https://pandas.pydata.org/pandas-docs/stable/reference/api/pandas.read_csv.html?highlight=read_csv) into a [pandas DataFrame](https://pandas.pydata.org/pandas-docs/stable/reference/api/pandas.DataFrame.html) (spreadsheet like data structure) for subsequent analysis. The Python pandas package has several easy to use and robust methods for reading various types of data formats such as csv and xlsx as well as tables from an html file. It can read them from the local drive and also directly from a web address."
      ]
    },
    {
      "cell_type": "code",
      "metadata": {
        "id": "p4-idiyI1D5r",
        "outputId": "1d9e4096-0840-4492-fd24-5f0e8ea0a735",
        "colab": {
          "base_uri": "https://localhost:8080/",
          "height": 34
        }
      },
      "source": [
        "zf = zipfile.ZipFile(download_file_name) \n",
        "zip_file_list = zf.namelist()\n",
        "file_to_extract_name = [name for name in zip_file_list if \"_Contracts_\" in name][0]\n",
        "file_to_extract_name\n",
        "\n",
        "df = pd.read_csv(zf.open(file_to_extract_name))\n",
        "df = Enhance_Spending_File(df)\n",
        "\n",
        "df.shape"
      ],
      "execution_count": null,
      "outputs": [
        {
          "output_type": "execute_result",
          "data": {
            "text/plain": [
              "(3788, 284)"
            ]
          },
          "metadata": {
            "tags": []
          },
          "execution_count": 101
        }
      ]
    },
    {
      "cell_type": "markdown",
      "metadata": {
        "id": "1-y0oQWk85mc"
      },
      "source": [
        "The pandas DataFrame 'df' has our data. I used df.shape to discover that my file has 3788 records and 284 fields (columns). The next line is another quick way to inspect the data using the df.head() method. You can scroll to the right to see many of the fields. The entire list of fields can be found by executing the line 'sorted(df.columns)'. You can try that by adding inserting a +Code line in the notebook and typing that line in. You then select shift-enter to execute the code."
      ]
    },
    {
      "cell_type": "code",
      "metadata": {
        "id": "OZ5Hb-kH26Ko",
        "outputId": "1145c138-feca-49a0-fd41-543fe60c596f",
        "colab": {
          "base_uri": "https://localhost:8080/",
          "height": 440
        }
      },
      "source": [
        "df.head()"
      ],
      "execution_count": null,
      "outputs": [
        {
          "output_type": "execute_result",
          "data": {
            "text/html": [
              "<div>\n",
              "<style scoped>\n",
              "    .dataframe tbody tr th:only-of-type {\n",
              "        vertical-align: middle;\n",
              "    }\n",
              "\n",
              "    .dataframe tbody tr th {\n",
              "        vertical-align: top;\n",
              "    }\n",
              "\n",
              "    .dataframe thead th {\n",
              "        text-align: right;\n",
              "    }\n",
              "</style>\n",
              "<table border=\"1\" class=\"dataframe\">\n",
              "  <thead>\n",
              "    <tr style=\"text-align: right;\">\n",
              "      <th></th>\n",
              "      <th>contract_transaction_unique_key</th>\n",
              "      <th>contract_award_unique_key</th>\n",
              "      <th>award_id_piid</th>\n",
              "      <th>modification_number</th>\n",
              "      <th>transaction_number</th>\n",
              "      <th>parent_award_agency_id</th>\n",
              "      <th>parent_award_agency_name</th>\n",
              "      <th>parent_award_id_piid</th>\n",
              "      <th>parent_award_modification_number</th>\n",
              "      <th>federal_action_obligation</th>\n",
              "      <th>total_dollars_obligated</th>\n",
              "      <th>base_and_exercised_options_value</th>\n",
              "      <th>current_total_value_of_award</th>\n",
              "      <th>base_and_all_options_value</th>\n",
              "      <th>potential_total_value_of_award</th>\n",
              "      <th>disaster_emergency_fund_codes_for_overall_award</th>\n",
              "      <th>outlayed_amount_funded_by_COVID-19_supplementals_for_overall_aw</th>\n",
              "      <th>obligated_amount_funded_by_COVID-19_supplementals_for_overall_a</th>\n",
              "      <th>action_date</th>\n",
              "      <th>action_date_fiscal_year</th>\n",
              "      <th>period_of_performance_start_date</th>\n",
              "      <th>period_of_performance_current_end_date</th>\n",
              "      <th>period_of_performance_potential_end_date</th>\n",
              "      <th>ordering_period_end_date</th>\n",
              "      <th>solicitation_date</th>\n",
              "      <th>awarding_agency_code</th>\n",
              "      <th>awarding_agency_name</th>\n",
              "      <th>awarding_sub_agency_code</th>\n",
              "      <th>awarding_sub_agency_name</th>\n",
              "      <th>awarding_office_code</th>\n",
              "      <th>awarding_office_name</th>\n",
              "      <th>funding_agency_code</th>\n",
              "      <th>funding_agency_name</th>\n",
              "      <th>funding_sub_agency_code</th>\n",
              "      <th>funding_sub_agency_name</th>\n",
              "      <th>funding_office_code</th>\n",
              "      <th>funding_office_name</th>\n",
              "      <th>treasury_accounts_funding_this_award</th>\n",
              "      <th>federal_accounts_funding_this_award</th>\n",
              "      <th>object_classes_funding_this_award</th>\n",
              "      <th>...</th>\n",
              "      <th>transit_authority</th>\n",
              "      <th>subchapter_scorporation</th>\n",
              "      <th>limited_liability_corporation</th>\n",
              "      <th>foreign_owned</th>\n",
              "      <th>for_profit_organization</th>\n",
              "      <th>nonprofit_organization</th>\n",
              "      <th>other_not_for_profit_organization</th>\n",
              "      <th>the_ability_one_program</th>\n",
              "      <th>private_university_or_college</th>\n",
              "      <th>state_controlled_institution_of_higher_learning</th>\n",
              "      <th>1862_land_grant_college</th>\n",
              "      <th>1890_land_grant_college</th>\n",
              "      <th>1994_land_grant_college</th>\n",
              "      <th>minority_institution</th>\n",
              "      <th>historically_black_college</th>\n",
              "      <th>tribal_college</th>\n",
              "      <th>alaskan_native_servicing_institution</th>\n",
              "      <th>native_hawaiian_servicing_institution</th>\n",
              "      <th>school_of_forestry</th>\n",
              "      <th>veterinary_college</th>\n",
              "      <th>dot_certified_disadvantage</th>\n",
              "      <th>self_certified_small_disadvantaged_business</th>\n",
              "      <th>small_disadvantaged_business</th>\n",
              "      <th>c8a_program_participant</th>\n",
              "      <th>historically_underutilized_business_zone_hubzone_firm</th>\n",
              "      <th>sba_certified_8a_joint_venture</th>\n",
              "      <th>highly_compensated_officer_1_name</th>\n",
              "      <th>highly_compensated_officer_1_amount</th>\n",
              "      <th>highly_compensated_officer_2_name</th>\n",
              "      <th>highly_compensated_officer_2_amount</th>\n",
              "      <th>highly_compensated_officer_3_name</th>\n",
              "      <th>highly_compensated_officer_3_amount</th>\n",
              "      <th>highly_compensated_officer_4_name</th>\n",
              "      <th>highly_compensated_officer_4_amount</th>\n",
              "      <th>highly_compensated_officer_5_name</th>\n",
              "      <th>highly_compensated_officer_5_amount</th>\n",
              "      <th>usaspending_permalink</th>\n",
              "      <th>last_modified_date</th>\n",
              "      <th>PSC_Cat</th>\n",
              "      <th>PSC_Cat_2</th>\n",
              "    </tr>\n",
              "  </thead>\n",
              "  <tbody>\n",
              "    <tr>\n",
              "      <th>0</th>\n",
              "      <td>7530_4732_75FCMC19F0083_0_GS00F252CA_0</td>\n",
              "      <td>CONT_AWD_75FCMC19F0083_7530_GS00F252CA_4732</td>\n",
              "      <td>75FCMC19F0083</td>\n",
              "      <td>0</td>\n",
              "      <td>0</td>\n",
              "      <td>4732</td>\n",
              "      <td>FEDERAL ACQUISITION SERVICE</td>\n",
              "      <td>GS00F252CA</td>\n",
              "      <td>PWA653</td>\n",
              "      <td>1696640.00</td>\n",
              "      <td>1696640.00</td>\n",
              "      <td>1.69664e+06</td>\n",
              "      <td>1.69664e+06</td>\n",
              "      <td>4672238.00</td>\n",
              "      <td>4.672238e+06</td>\n",
              "      <td>UNSPECIFIED</td>\n",
              "      <td>UNSPECIFIED</td>\n",
              "      <td>UNSPECIFIED</td>\n",
              "      <td>2019-08-22</td>\n",
              "      <td>2019</td>\n",
              "      <td>2019-08-22 00:00:00</td>\n",
              "      <td>2020-09-29 00:00:00</td>\n",
              "      <td>2022-09-29 00:00:00</td>\n",
              "      <td>UNSPECIFIED</td>\n",
              "      <td>2019-04-02</td>\n",
              "      <td>75</td>\n",
              "      <td>DEPARTMENT OF HEALTH AND HUMAN SERVICES (HHS)</td>\n",
              "      <td>7530</td>\n",
              "      <td>CENTERS FOR MEDICARE AND MEDICAID SERVICES</td>\n",
              "      <td>75FCMC</td>\n",
              "      <td>OFC OF ACQUISITION AND GRANTS MGMT</td>\n",
              "      <td>75</td>\n",
              "      <td>DEPARTMENT OF HEALTH AND HUMAN SERVICES (HHS)</td>\n",
              "      <td>7530</td>\n",
              "      <td>CENTERS FOR MEDICARE AND MEDICAID SERVICES</td>\n",
              "      <td>75FCMC</td>\n",
              "      <td>OFC OF ACQUISITION AND GRANTS MGMT</td>\n",
              "      <td>075-2019/2019-0511-000</td>\n",
              "      <td>075-0511</td>\n",
              "      <td>252: Other services from non-Federal sources</td>\n",
              "      <td>...</td>\n",
              "      <td>f</td>\n",
              "      <td>t</td>\n",
              "      <td>f</td>\n",
              "      <td>f</td>\n",
              "      <td>t</td>\n",
              "      <td>f</td>\n",
              "      <td>f</td>\n",
              "      <td>f</td>\n",
              "      <td>f</td>\n",
              "      <td>f</td>\n",
              "      <td>f</td>\n",
              "      <td>f</td>\n",
              "      <td>f</td>\n",
              "      <td>f</td>\n",
              "      <td>f</td>\n",
              "      <td>f</td>\n",
              "      <td>f</td>\n",
              "      <td>f</td>\n",
              "      <td>f</td>\n",
              "      <td>f</td>\n",
              "      <td>f</td>\n",
              "      <td>f</td>\n",
              "      <td>f</td>\n",
              "      <td>f</td>\n",
              "      <td>f</td>\n",
              "      <td>f</td>\n",
              "      <td>KATHLEEN  FLANAGAN</td>\n",
              "      <td>1.0474e+06</td>\n",
              "      <td>JAY  KNOTT</td>\n",
              "      <td>497070</td>\n",
              "      <td>NOEL  SAMUEL</td>\n",
              "      <td>479926</td>\n",
              "      <td>MICHAEL  LINK</td>\n",
              "      <td>401834</td>\n",
              "      <td>MARY  HOLIN</td>\n",
              "      <td>396516</td>\n",
              "      <td>https://www.usaspending.gov/#/award/CONT_AWD_7...</td>\n",
              "      <td>2020-07-13 12:24:08</td>\n",
              "      <td>R</td>\n",
              "      <td>R4</td>\n",
              "    </tr>\n",
              "    <tr>\n",
              "      <th>1</th>\n",
              "      <td>7530_7530_HHSM500T0007_P00001_HHSM500201400033I_0</td>\n",
              "      <td>CONT_AWD_HHSM500T0007_7530_HHSM500201400033I_7530</td>\n",
              "      <td>HHSM500T0007</td>\n",
              "      <td>P00001</td>\n",
              "      <td>0</td>\n",
              "      <td>7530</td>\n",
              "      <td>CENTERS FOR MEDICARE AND MEDICAID SERVICES</td>\n",
              "      <td>HHSM500201400033I</td>\n",
              "      <td>0</td>\n",
              "      <td>1863859.00</td>\n",
              "      <td>20221326.00</td>\n",
              "      <td>1.86386e+06</td>\n",
              "      <td>2.02213e+07</td>\n",
              "      <td>3700682.00</td>\n",
              "      <td>3.115404e+07</td>\n",
              "      <td>UNSPECIFIED</td>\n",
              "      <td>UNSPECIFIED</td>\n",
              "      <td>UNSPECIFIED</td>\n",
              "      <td>2019-08-21</td>\n",
              "      <td>2019</td>\n",
              "      <td>2019-08-21 00:00:00</td>\n",
              "      <td>2020-09-29 00:00:00</td>\n",
              "      <td>2023-06-30 00:00:00</td>\n",
              "      <td>UNSPECIFIED</td>\n",
              "      <td>UNSPECIFIED</td>\n",
              "      <td>75</td>\n",
              "      <td>DEPARTMENT OF HEALTH AND HUMAN SERVICES (HHS)</td>\n",
              "      <td>7530</td>\n",
              "      <td>CENTERS FOR MEDICARE AND MEDICAID SERVICES</td>\n",
              "      <td>75FCMC</td>\n",
              "      <td>OFC OF ACQUISITION AND GRANTS MGMT</td>\n",
              "      <td>75</td>\n",
              "      <td>DEPARTMENT OF HEALTH AND HUMAN SERVICES (HHS)</td>\n",
              "      <td>7530</td>\n",
              "      <td>CENTERS FOR MEDICARE AND MEDICAID SERVICES</td>\n",
              "      <td>75FCMC</td>\n",
              "      <td>OFC OF ACQUISITION AND GRANTS MGMT</td>\n",
              "      <td>075-X-0522-000</td>\n",
              "      <td>075-0522</td>\n",
              "      <td>252: Other services from non-Federal sources</td>\n",
              "      <td>...</td>\n",
              "      <td>f</td>\n",
              "      <td>f</td>\n",
              "      <td>f</td>\n",
              "      <td>f</td>\n",
              "      <td>t</td>\n",
              "      <td>f</td>\n",
              "      <td>f</td>\n",
              "      <td>f</td>\n",
              "      <td>f</td>\n",
              "      <td>f</td>\n",
              "      <td>f</td>\n",
              "      <td>f</td>\n",
              "      <td>f</td>\n",
              "      <td>f</td>\n",
              "      <td>f</td>\n",
              "      <td>f</td>\n",
              "      <td>f</td>\n",
              "      <td>f</td>\n",
              "      <td>f</td>\n",
              "      <td>f</td>\n",
              "      <td>f</td>\n",
              "      <td>f</td>\n",
              "      <td>f</td>\n",
              "      <td>f</td>\n",
              "      <td>f</td>\n",
              "      <td>f</td>\n",
              "      <td>LISA M CHIMENTO</td>\n",
              "      <td>795797</td>\n",
              "      <td>CARLOS E BRUETMAN</td>\n",
              "      <td>778063</td>\n",
              "      <td>MICHAEL N NESTOR</td>\n",
              "      <td>575607</td>\n",
              "      <td>LISA M ALECXIH</td>\n",
              "      <td>573321</td>\n",
              "      <td>CAROL  SIMON</td>\n",
              "      <td>613795</td>\n",
              "      <td>https://www.usaspending.gov/#/award/CONT_AWD_H...</td>\n",
              "      <td>2019-08-22 09:45:29</td>\n",
              "      <td>R</td>\n",
              "      <td>R4</td>\n",
              "    </tr>\n",
              "    <tr>\n",
              "      <th>2</th>\n",
              "      <td>7530_-NONE-_75FCMC19D0026_0_-NONE-_-NONE-</td>\n",
              "      <td>CONT_IDV_75FCMC19D0026_7530</td>\n",
              "      <td>75FCMC19D0026</td>\n",
              "      <td>0</td>\n",
              "      <td>UNSPECIFIED</td>\n",
              "      <td>UNSPECIFIED</td>\n",
              "      <td>UNSPECIFIED</td>\n",
              "      <td>UNSPECIFIED</td>\n",
              "      <td>UNSPECIFIED</td>\n",
              "      <td>1000.00</td>\n",
              "      <td>1000.00</td>\n",
              "      <td>UNSPECIFIED</td>\n",
              "      <td>UNSPECIFIED</td>\n",
              "      <td>1000.00</td>\n",
              "      <td>1.000000e+03</td>\n",
              "      <td>UNSPECIFIED</td>\n",
              "      <td>UNSPECIFIED</td>\n",
              "      <td>UNSPECIFIED</td>\n",
              "      <td>2019-01-23</td>\n",
              "      <td>2019</td>\n",
              "      <td>2019-02-01 00:00:00</td>\n",
              "      <td>UNSPECIFIED</td>\n",
              "      <td>UNSPECIFIED</td>\n",
              "      <td>2024-01-31</td>\n",
              "      <td>UNSPECIFIED</td>\n",
              "      <td>75</td>\n",
              "      <td>DEPARTMENT OF HEALTH AND HUMAN SERVICES (HHS)</td>\n",
              "      <td>7530</td>\n",
              "      <td>CENTERS FOR MEDICARE AND MEDICAID SERVICES</td>\n",
              "      <td>75FCMC</td>\n",
              "      <td>OFC OF ACQUISITION AND GRANTS MGMT</td>\n",
              "      <td>75</td>\n",
              "      <td>DEPARTMENT OF HEALTH AND HUMAN SERVICES (HHS)</td>\n",
              "      <td>7530</td>\n",
              "      <td>CENTERS FOR MEDICARE AND MEDICAID SERVICES</td>\n",
              "      <td>75FCMC</td>\n",
              "      <td>OFC OF ACQUISITION AND GRANTS MGMT</td>\n",
              "      <td>UNSPECIFIED</td>\n",
              "      <td>UNSPECIFIED</td>\n",
              "      <td>UNSPECIFIED</td>\n",
              "      <td>...</td>\n",
              "      <td>f</td>\n",
              "      <td>f</td>\n",
              "      <td>f</td>\n",
              "      <td>f</td>\n",
              "      <td>t</td>\n",
              "      <td>f</td>\n",
              "      <td>f</td>\n",
              "      <td>f</td>\n",
              "      <td>f</td>\n",
              "      <td>f</td>\n",
              "      <td>f</td>\n",
              "      <td>f</td>\n",
              "      <td>f</td>\n",
              "      <td>f</td>\n",
              "      <td>f</td>\n",
              "      <td>f</td>\n",
              "      <td>f</td>\n",
              "      <td>f</td>\n",
              "      <td>f</td>\n",
              "      <td>f</td>\n",
              "      <td>f</td>\n",
              "      <td>f</td>\n",
              "      <td>f</td>\n",
              "      <td>f</td>\n",
              "      <td>f</td>\n",
              "      <td>f</td>\n",
              "      <td>UNSPECIFIED</td>\n",
              "      <td>UNSPECIFIED</td>\n",
              "      <td>UNSPECIFIED</td>\n",
              "      <td>UNSPECIFIED</td>\n",
              "      <td>UNSPECIFIED</td>\n",
              "      <td>UNSPECIFIED</td>\n",
              "      <td>UNSPECIFIED</td>\n",
              "      <td>UNSPECIFIED</td>\n",
              "      <td>UNSPECIFIED</td>\n",
              "      <td>UNSPECIFIED</td>\n",
              "      <td>https://www.usaspending.gov/#/award/CONT_IDV_7...</td>\n",
              "      <td>2019-01-29 06:35:57</td>\n",
              "      <td>Q</td>\n",
              "      <td>Q1</td>\n",
              "    </tr>\n",
              "    <tr>\n",
              "      <th>3</th>\n",
              "      <td>7530_-NONE-_HHSM500200400005I_P00002_-NONE-_-N...</td>\n",
              "      <td>CONT_IDV_HHSM500200400005I_7530</td>\n",
              "      <td>HHSM500200400005I</td>\n",
              "      <td>P00002</td>\n",
              "      <td>UNSPECIFIED</td>\n",
              "      <td>UNSPECIFIED</td>\n",
              "      <td>UNSPECIFIED</td>\n",
              "      <td>UNSPECIFIED</td>\n",
              "      <td>UNSPECIFIED</td>\n",
              "      <td>0.00</td>\n",
              "      <td>547732.00</td>\n",
              "      <td>UNSPECIFIED</td>\n",
              "      <td>UNSPECIFIED</td>\n",
              "      <td>0.00</td>\n",
              "      <td>1.000473e+09</td>\n",
              "      <td>UNSPECIFIED</td>\n",
              "      <td>UNSPECIFIED</td>\n",
              "      <td>UNSPECIFIED</td>\n",
              "      <td>2018-10-25</td>\n",
              "      <td>2019</td>\n",
              "      <td>2018-10-25 00:00:00</td>\n",
              "      <td>UNSPECIFIED</td>\n",
              "      <td>UNSPECIFIED</td>\n",
              "      <td>2019-09-13</td>\n",
              "      <td>UNSPECIFIED</td>\n",
              "      <td>75</td>\n",
              "      <td>DEPARTMENT OF HEALTH AND HUMAN SERVICES (HHS)</td>\n",
              "      <td>7530</td>\n",
              "      <td>CENTERS FOR MEDICARE AND MEDICAID SERVICES</td>\n",
              "      <td>75FCMC</td>\n",
              "      <td>OFC OF ACQUISITION AND GRANTS MGMT</td>\n",
              "      <td>75</td>\n",
              "      <td>DEPARTMENT OF HEALTH AND HUMAN SERVICES (HHS)</td>\n",
              "      <td>7530</td>\n",
              "      <td>CENTERS FOR MEDICARE AND MEDICAID SERVICES</td>\n",
              "      <td>75M001</td>\n",
              "      <td>OFFICE OF ACQ  GRANTS MGMT</td>\n",
              "      <td>075-2015/2018-0511-000;075-2018/2018-0511-000;...</td>\n",
              "      <td>075-0511</td>\n",
              "      <td>252: Other services from non-Federal sources</td>\n",
              "      <td>...</td>\n",
              "      <td>f</td>\n",
              "      <td>f</td>\n",
              "      <td>f</td>\n",
              "      <td>f</td>\n",
              "      <td>t</td>\n",
              "      <td>f</td>\n",
              "      <td>f</td>\n",
              "      <td>f</td>\n",
              "      <td>f</td>\n",
              "      <td>f</td>\n",
              "      <td>f</td>\n",
              "      <td>f</td>\n",
              "      <td>f</td>\n",
              "      <td>f</td>\n",
              "      <td>f</td>\n",
              "      <td>f</td>\n",
              "      <td>f</td>\n",
              "      <td>f</td>\n",
              "      <td>f</td>\n",
              "      <td>f</td>\n",
              "      <td>f</td>\n",
              "      <td>f</td>\n",
              "      <td>f</td>\n",
              "      <td>f</td>\n",
              "      <td>f</td>\n",
              "      <td>f</td>\n",
              "      <td>UNSPECIFIED</td>\n",
              "      <td>UNSPECIFIED</td>\n",
              "      <td>UNSPECIFIED</td>\n",
              "      <td>UNSPECIFIED</td>\n",
              "      <td>UNSPECIFIED</td>\n",
              "      <td>UNSPECIFIED</td>\n",
              "      <td>UNSPECIFIED</td>\n",
              "      <td>UNSPECIFIED</td>\n",
              "      <td>UNSPECIFIED</td>\n",
              "      <td>UNSPECIFIED</td>\n",
              "      <td>https://www.usaspending.gov/#/award/CONT_IDV_H...</td>\n",
              "      <td>2018-10-26 13:47:10</td>\n",
              "      <td>Q</td>\n",
              "      <td>Q2</td>\n",
              "    </tr>\n",
              "    <tr>\n",
              "      <th>4</th>\n",
              "      <td>7530_7529_HHSM500201500139U_P00005_HHSN3162012...</td>\n",
              "      <td>CONT_AWD_HHSM500201500139U_7530_HHSN3162012001...</td>\n",
              "      <td>HHSM500201500139U</td>\n",
              "      <td>P00005</td>\n",
              "      <td>0</td>\n",
              "      <td>7529</td>\n",
              "      <td>NATIONAL INSTITUTES OF HEALTH</td>\n",
              "      <td>HHSN316201200125W</td>\n",
              "      <td>0</td>\n",
              "      <td>100166.14</td>\n",
              "      <td>27158132.55</td>\n",
              "      <td>100166</td>\n",
              "      <td>2.71581e+07</td>\n",
              "      <td>100166.14</td>\n",
              "      <td>2.719230e+07</td>\n",
              "      <td>UNSPECIFIED</td>\n",
              "      <td>UNSPECIFIED</td>\n",
              "      <td>UNSPECIFIED</td>\n",
              "      <td>2019-02-08</td>\n",
              "      <td>2019</td>\n",
              "      <td>2019-03-09 00:00:00</td>\n",
              "      <td>2019-08-04 00:00:00</td>\n",
              "      <td>2020-08-04 00:00:00</td>\n",
              "      <td>UNSPECIFIED</td>\n",
              "      <td>UNSPECIFIED</td>\n",
              "      <td>75</td>\n",
              "      <td>DEPARTMENT OF HEALTH AND HUMAN SERVICES (HHS)</td>\n",
              "      <td>7530</td>\n",
              "      <td>CENTERS FOR MEDICARE AND MEDICAID SERVICES</td>\n",
              "      <td>75FCMC</td>\n",
              "      <td>OFC OF ACQUISITION AND GRANTS MGMT</td>\n",
              "      <td>75</td>\n",
              "      <td>DEPARTMENT OF HEALTH AND HUMAN SERVICES (HHS)</td>\n",
              "      <td>7530</td>\n",
              "      <td>CENTERS FOR MEDICARE AND MEDICAID SERVICES</td>\n",
              "      <td>75FCMC</td>\n",
              "      <td>OFC OF ACQUISITION AND GRANTS MGMT</td>\n",
              "      <td>075-2016/2021-0511-000;075-2017/2017-0511-000;...</td>\n",
              "      <td>075-0511</td>\n",
              "      <td>252: Other services from non-Federal sources;2...</td>\n",
              "      <td>...</td>\n",
              "      <td>f</td>\n",
              "      <td>t</td>\n",
              "      <td>f</td>\n",
              "      <td>f</td>\n",
              "      <td>t</td>\n",
              "      <td>f</td>\n",
              "      <td>f</td>\n",
              "      <td>f</td>\n",
              "      <td>f</td>\n",
              "      <td>f</td>\n",
              "      <td>f</td>\n",
              "      <td>f</td>\n",
              "      <td>f</td>\n",
              "      <td>f</td>\n",
              "      <td>f</td>\n",
              "      <td>f</td>\n",
              "      <td>f</td>\n",
              "      <td>f</td>\n",
              "      <td>f</td>\n",
              "      <td>f</td>\n",
              "      <td>f</td>\n",
              "      <td>t</td>\n",
              "      <td>t</td>\n",
              "      <td>f</td>\n",
              "      <td>f</td>\n",
              "      <td>f</td>\n",
              "      <td>GUSTAVO  VAZQUEZ</td>\n",
              "      <td>276235</td>\n",
              "      <td>KIRTHI  ANANTHARAN</td>\n",
              "      <td>304634</td>\n",
              "      <td>LISA  BROWN</td>\n",
              "      <td>247203</td>\n",
              "      <td>FAQIR  AHMED</td>\n",
              "      <td>246100</td>\n",
              "      <td>ANIRUDH  KULKARNI</td>\n",
              "      <td>299000</td>\n",
              "      <td>https://www.usaspending.gov/#/award/CONT_AWD_H...</td>\n",
              "      <td>2020-07-28 22:43:29</td>\n",
              "      <td>D</td>\n",
              "      <td>D3</td>\n",
              "    </tr>\n",
              "  </tbody>\n",
              "</table>\n",
              "<p>5 rows × 284 columns</p>\n",
              "</div>"
            ],
            "text/plain": [
              "                     contract_transaction_unique_key  ... PSC_Cat_2\n",
              "0             7530_4732_75FCMC19F0083_0_GS00F252CA_0  ...        R4\n",
              "1  7530_7530_HHSM500T0007_P00001_HHSM500201400033I_0  ...        R4\n",
              "2          7530_-NONE-_75FCMC19D0026_0_-NONE-_-NONE-  ...        Q1\n",
              "3  7530_-NONE-_HHSM500200400005I_P00002_-NONE-_-N...  ...        Q2\n",
              "4  7530_7529_HHSM500201500139U_P00005_HHSN3162012...  ...        D3\n",
              "\n",
              "[5 rows x 284 columns]"
            ]
          },
          "metadata": {
            "tags": []
          },
          "execution_count": 102
        }
      ]
    },
    {
      "cell_type": "markdown",
      "metadata": {
        "id": "CDf17S_o9t5C"
      },
      "source": [
        "The next steps automate the process of creating a Google Sheet to store the data and do manual analysis. The first steps imports the packages we need. Google's Colab documentation explains how to do this from a Colab [here](https://colab.research.google.com/notebooks/io.ipynb/). Google makes this very simple inside a Colab notebook.\n",
        "\n",
        "If you are running this notebook from your local machine, not Google Colab, the process is much more complicated. You can learn how to do that [here](https://medium.com/@denisluiz/python-with-google-sheets-service-account-step-by-step-8f74c26ed28e) where the author explains how to create a 'Google Service' and then authorize the email address."
      ]
    },
    {
      "cell_type": "code",
      "metadata": {
        "id": "S9YL5yRBlPqh"
      },
      "source": [
        "# Now that the data has been cleaned up and NaNs changed to UNSPECIFIED, load the CSV file from the original download into Google Sheets\n",
        "# use gspread tool\n",
        "!pip install --upgrade gspread --quiet\n",
        "\n",
        "from google.colab import auth\n",
        "auth.authenticate_user()\n",
        "\n",
        "import gspread\n",
        "from oauth2client.client import GoogleCredentials"
      ],
      "execution_count": null,
      "outputs": []
    },
    {
      "cell_type": "markdown",
      "metadata": {
        "id": "J6eQbVfaq8T_"
      },
      "source": [
        "The next step enables you to use the Colab Python code to interact with your Google Drive folder to store and read data."
      ]
    },
    {
      "cell_type": "markdown",
      "metadata": {
        "id": "MG71cg5c_Onk"
      },
      "source": [
        "The first step is to authorize access to your Google Drive for use within this session."
      ]
    },
    {
      "cell_type": "code",
      "metadata": {
        "id": "gyzDNLfkq7aA"
      },
      "source": [
        "# open the link, select the Google account, and then copy hashcode to enter in the box shown and then hit Enter (one time process per Colab session)\n",
        "gc = gspread.authorize(GoogleCredentials.get_application_default()) "
      ],
      "execution_count": null,
      "outputs": []
    },
    {
      "cell_type": "markdown",
      "metadata": {
        "id": "RJvR4CJV_k80"
      },
      "source": [
        "The next block of code takes advantage of the features of the [gspread package](https://gspread.readthedocs.io/en/latest/) and additional code to add the df DataFrame data to a newly created Google Spreadsheet in your Google Drive and format it for easy of use."
      ]
    },
    {
      "cell_type": "code",
      "metadata": {
        "id": "g0qCDomFm72y"
      },
      "source": [
        "#TODO: simplify and refactor the code\n",
        "#TODO: add testing\n",
        "#TODO: some functions are just stubs with pass\n",
        "\n",
        "def DataframeToWorksheet(worksheet, df):\n",
        "  worksheet.update([df.columns.values.tolist()] + df.values.tolist())\n",
        "  return\n",
        "\n",
        "# alternative approach\n",
        "# first save the df as a CSV via df.to_csv('HHS_CMS_FY19.csv', index=false)\n",
        "def Import_CSV_Into_Worksheet(spreadsheet, worksheet, file_name): #source https://stackoverflow.com/questions/57264871/python-gspread-import-csv-to-specific-work-sheet\n",
        "    #import csv\n",
        "\n",
        "    content = open(file_name, 'rb').read()  # the 'rb' specifier is important for gc.import_csv\n",
        "\n",
        "    #gc.import_csv(worksheet2.id, content)\n",
        "\n",
        "    result = spreadsheet.values_update(\n",
        "                    worksheet.title, #sheet name\n",
        "                    params={'valueInputOption': 'USER_ENTERED'},\n",
        "                    body={'values': list(csv.reader(open(file_name)))},\n",
        "                          )\n",
        "    return result\n",
        "\n",
        "def DataframeReadWorksheet(worksheet):\n",
        "  rows = worksheet.get_all_values()\n",
        "  #print(rows)\n",
        "  df = pd.DataFrame.from_records(rows[1:],columns=rows[0])\n",
        "  return df\n",
        "\n",
        "def WorksheetAddBoldHeader(worksheet):\n",
        "  worksheet.format('A1:Z1',{\"horizontalAlignment\": \"CENTER\",'textFormat': {'bold': True, \"fontSize\": 12},})\n",
        "  return\n",
        "\n",
        "def WorksheetWrapText(worksheet, columns):\n",
        "    for aColumn in columns:\n",
        "       pass #TBD\n",
        "    return\n",
        "\n",
        "def WorksheetAddFilters(worksheet):\n",
        "    #worksheet.format('A1:Z1',{'textFormat': {'bold': True}})\n",
        "    worksheet.set_basic_filter()\n",
        "    return\n",
        "\n",
        "def AppendToWorksheet(worksheet):\n",
        "    pass #TBD\n",
        "    return\n",
        "\n",
        "def SearchSpreadsheet(worksheet, search_pattern, column_number = 'All'):\n",
        "    criteria_re = re.compile(search_pattern)\n",
        "    if column_number == 'All':\n",
        "        result = worksheet.findall(criteria_re)\n",
        "    else:\n",
        "        result = worksheet.findall(criteria_re, in_column=column_number)\n",
        "        \n",
        "    return result\n",
        "\n",
        "def Get_Spreadsheet_Worksheet_Titles(spreadsheet):\n",
        "    return [ws.title for ws in spreadsheet.worksheets()]\n",
        "\n",
        "def AutoResize_Columns(spreadsheet, worksheet):\n",
        "    # autofit column widths\n",
        "\n",
        "    sheetId = worksheet.id\n",
        "    column_count = len(worksheet.row_values(1))\n",
        "\n",
        "    body = {\n",
        "        \"requests\": [\n",
        "            {\n",
        "                \"autoResizeDimensions\": {\n",
        "                    \"dimensions\": {\n",
        "                        \"sheetId\": sheetId,\n",
        "                        \"dimension\": \"COLUMNS\",\n",
        "                        \"startIndex\": 0,  # Please set the column index.\n",
        "                        \"endIndex\": column_count   # Please set the column index.\n",
        "                    }\n",
        "                }\n",
        "            }\n",
        "        ]\n",
        "    }\n",
        "\n",
        "    res = spreadsheet.batch_update(body)\n",
        "    return res\n",
        "\n",
        "def Filter_Bold_Center_Headings(spreadsheet, worksheet):\n",
        "    \n",
        "    sheetId = worksheet.id\n",
        "    sheetTitle = worksheet.title\n",
        "    \n",
        "    column_count = len(worksheet.row_values(1))\n",
        "    \n",
        "    WorksheetAddFilters(worksheet)\n",
        "    \n",
        "    res = worksheet.format(\n",
        "        # 'A1:E1', \n",
        "        '1', # should be first row\n",
        "                  {\n",
        "                      \"horizontalAlignment\": \"CENTER\",\n",
        "                      'textFormat' : {'bold': True, 'fontSize' : 12},\n",
        "                      \n",
        "                  })\n",
        "    return res"
      ],
      "execution_count": null,
      "outputs": []
    },
    {
      "cell_type": "markdown",
      "metadata": {
        "id": "0R3BTqhaAFJ5"
      },
      "source": [
        "The next step creates the new Google Drive spreadsheet in your account that you authorized."
      ]
    },
    {
      "cell_type": "code",
      "metadata": {
        "id": "xjN1W_nSllK0"
      },
      "source": [
        "google_spreadsheet_name = 'HHS_CMS_FY19_Obligations'\n",
        "sh = gc.create(google_spreadsheet_name) # names this as makes sense\n",
        "worksheet = gc.open(google_spreadsheet_name).sheet1"
      ],
      "execution_count": null,
      "outputs": []
    },
    {
      "cell_type": "markdown",
      "metadata": {
        "id": "Dd2Dm1NnAR3f"
      },
      "source": [
        "These steps first load the df DataFrame data we created earlier into the new Google Spreadsheet. This may take a minute or two depending on the number of records being uploaded. Note also that the function DataframeToWorksheet is NOT robustly designed and assumes success. After the data is uploaded, it then reformats the headings and applies the AutoFilter function so one can sort and search the various columns."
      ]
    },
    {
      "cell_type": "code",
      "metadata": {
        "id": "WX35Ie3Knqx4",
        "outputId": "42552671-fc4c-43c4-fc19-03aa347d2e35",
        "colab": {
          "base_uri": "https://localhost:8080/",
          "height": 34
        }
      },
      "source": [
        "DataframeToWorksheet(worksheet, df) # this step may be slow if there are lots of records to upload - you can monitor the process by opening your Google Drive Folder\n",
        "worksheet.update_title('CMS_FY19_ALL')\n",
        "Filter_Bold_Center_Headings(sh, worksheet)\n",
        "#AutoResize_Columns(sh, worksheet) #this is useful in some cases but with so many columns, this may not help\n",
        "\n",
        "print(f\"Look in your Google Drive folder for Spreadsheet: {sh.title} with Worksheet: {worksheet.title}\")"
      ],
      "execution_count": null,
      "outputs": [
        {
          "output_type": "stream",
          "text": [
            "Look in your Google Drive folder for Spreadsheet: HHS_CMS_FY19_Obligations with Worksheet: CMS_FY19_ALL\n"
          ],
          "name": "stdout"
        }
      ]
    },
    {
      "cell_type": "markdown",
      "metadata": {
        "id": "xHA_Fs4h2Ze4"
      },
      "source": [
        "The Google Spreadhseet I created for this exercise can be viewed [here](https://docs.google.com/spreadsheets/d/1N-tD966BE5uwmXOfIpM9F4auiNiF3ucb_Ry2GJoMJoE/edit?usp=sharing). You should find the version you created in your Google Drive folder. It might be useful to compare them to ensure they are the same."
      ]
    },
    {
      "cell_type": "markdown",
      "metadata": {
        "id": "CkpvaOjep-Bx"
      },
      "source": [
        "# You can continue here with Pandas DataFrame Analytics or Use the Google Spreadsheet We Just Created..."
      ]
    },
    {
      "cell_type": "markdown",
      "metadata": {
        "id": "6C7TY5y_A1DG"
      },
      "source": [
        "Now that we have our data in a pandas DataFrame df, let's do some preliminary analytics on the file. We can also use the Google Spreadsheet we created and inspect the data manually. The code in the sections below show the power of the Python pandas package and the ability to create complex, automated scripts that can be used on different data sets. I hope you too will see the power of this approach for more robust analytics."
      ]
    },
    {
      "cell_type": "markdown",
      "metadata": {
        "id": "zwKiMmzqBZNa"
      },
      "source": [
        "Let's compute the total contract (not grants or loans etc) dollars in $B for CMS in GFY19."
      ]
    },
    {
      "cell_type": "code",
      "metadata": {
        "id": "oeC88Mtf3A25",
        "outputId": "794ccc95-9d2b-44c4-f15e-4801d2777a67",
        "colab": {
          "base_uri": "https://localhost:8080/",
          "height": 34
        }
      },
      "source": [
        "df['federal_action_obligation'].sum()/1e9"
      ],
      "execution_count": null,
      "outputs": [
        {
          "output_type": "execute_result",
          "data": {
            "text/plain": [
              "7.202720020059999"
            ]
          },
          "metadata": {
            "tags": []
          },
          "execution_count": 232
        }
      ]
    },
    {
      "cell_type": "markdown",
      "metadata": {
        "id": "frr06QGNBqMz"
      },
      "source": [
        "Note that the file includes de-obligations for $'s in previous years (and sometimes the current year). We should remove those and recompute the total. This total should closely align with other external market analysis sources you are using as a way to cross-check the calculations."
      ]
    },
    {
      "cell_type": "code",
      "metadata": {
        "id": "iDjCukI7B_gd",
        "outputId": "f04a3eba-484c-4991-ad2a-c1260a31001f",
        "colab": {
          "base_uri": "https://localhost:8080/",
          "height": 34
        }
      },
      "source": [
        "df.query('federal_action_obligation > 0.0')['federal_action_obligation'].sum()/1e9"
      ],
      "execution_count": null,
      "outputs": [
        {
          "output_type": "execute_result",
          "data": {
            "text/plain": [
              "7.39162235248"
            ]
          },
          "metadata": {
            "tags": []
          },
          "execution_count": 252
        }
      ]
    },
    {
      "cell_type": "markdown",
      "metadata": {
        "id": "hf7ZOEQpCkwn"
      },
      "source": [
        "This next line computes the ratio of the two and you can see that including de-obligations reduces the total by about 3%. Most 3rd party reporting you use to validate this numbers disregards the de-obligations since they are USUALLY for previous GFY; however, I have found cases with large numbers where the obligation and de-obligation happen in the same year, thus affecting analytics such as YoY growth calculations etc. You should look at the magnitude of the difference in your analytics work."
      ]
    },
    {
      "cell_type": "code",
      "metadata": {
        "id": "lvbfJAb4CeLl",
        "outputId": "c2ff2258-6824-4021-d900-640ba5754b4a",
        "colab": {
          "base_uri": "https://localhost:8080/",
          "height": 34
        }
      },
      "source": [
        "df['federal_action_obligation'].sum()/df.query('federal_action_obligation > 0.0')['federal_action_obligation'].sum()"
      ],
      "execution_count": null,
      "outputs": [
        {
          "output_type": "execute_result",
          "data": {
            "text/plain": [
              "0.9744437251509988"
            ]
          },
          "metadata": {
            "tags": []
          },
          "execution_count": 255
        }
      ]
    },
    {
      "cell_type": "markdown",
      "metadata": {
        "id": "yOUmBGPnCiBe"
      },
      "source": [
        "Since we want to explore how CMS spends its contracting dollars on major categories of services, one of the best starting places to create some context for your downstream analytics for the Agency is to look at the product_or_service_code spending. I created a column PSC_Cat when we read the data in above as a way to [groupby](https://pandas.pydata.org/pandas-docs/stable/reference/api/pandas.DataFrame.groupby.html) those codes and sum the spending.\n",
        "\n",
        "The code below grabs the official definitions for the product_or_service_codes so you can later reference that if you are unfamiliar with the taxonomy."
      ]
    },
    {
      "cell_type": "code",
      "metadata": {
        "id": "4wQCILDtUqcS",
        "outputId": "52522de2-ec54-4882-d2a2-a4346390ec49",
        "colab": {
          "base_uri": "https://localhost:8080/",
          "height": 419
        }
      },
      "source": [
        "# retrieve the PSC Codes for reference and reporting purposes\n",
        "\n",
        "url_psc_lookup = 'https://www.acquisition.gov/sites/default/files/manual/PSC_Data_March_2020_Edition.xls' # latest version when coded - may have bene updated - see here https://www.acquisition.gov/psc-manual\n",
        "\n",
        "# def Cleanup_Category_Text(text): #fixes the typos in the source excel document\n",
        "#   text = text.strip() # remove preceding and trailing spaces\n",
        "#   clean_list = []\n",
        "#   for token in text.split(\" \"):\n",
        "#     if token[0] != '&' and not token[1] in ['&', 'T']:\n",
        "#       clean_list.append(token.capitalize())\n",
        "#     else:\n",
        "#       clean_list.append(token)\n",
        "#   return \" \".join(clean_list)\n",
        "\n",
        "# download the file from the website to read into pandas\n",
        "r = requests.get(url_psc_lookup, allow_redirects=True)\n",
        "file_name = \"Federal_PSC_Lookup_Codes.xlsx\"\n",
        "with open(file_name, 'wb') as output:\n",
        "  output.write(r.content)\n",
        "\n",
        "# !ls -al\n",
        "\n",
        "xls = pd.ExcelFile(file_name)\n",
        "df_psc_lookup = pd.read_excel(xls, sheet_name = 1, skiprows=0) #note that there are Excel Sheets for each of the Level 1 Cats with more details\n",
        "df_psc_lookup.head()\n",
        "df_PSC_Cat_Lookup = df_psc_lookup[df_psc_lookup['PSC CODE'].str.len() <= 2][['PSC CODE', 'PRODUCT AND SERVICE CODE NAME']].drop_duplicates()\n",
        "df_PSC_Cat_Lookup"
      ],
      "execution_count": null,
      "outputs": [
        {
          "output_type": "execute_result",
          "data": {
            "text/html": [
              "<div>\n",
              "<style scoped>\n",
              "    .dataframe tbody tr th:only-of-type {\n",
              "        vertical-align: middle;\n",
              "    }\n",
              "\n",
              "    .dataframe tbody tr th {\n",
              "        vertical-align: top;\n",
              "    }\n",
              "\n",
              "    .dataframe thead th {\n",
              "        text-align: right;\n",
              "    }\n",
              "</style>\n",
              "<table border=\"1\" class=\"dataframe\">\n",
              "  <thead>\n",
              "    <tr style=\"text-align: right;\">\n",
              "      <th></th>\n",
              "      <th>PSC CODE</th>\n",
              "      <th>PRODUCT AND SERVICE CODE NAME</th>\n",
              "    </tr>\n",
              "  </thead>\n",
              "  <tbody>\n",
              "    <tr>\n",
              "      <th>0</th>\n",
              "      <td>10</td>\n",
              "      <td>WEAPONS</td>\n",
              "    </tr>\n",
              "    <tr>\n",
              "      <th>26</th>\n",
              "      <td>11</td>\n",
              "      <td>NUCLEAR ORDNANCE</td>\n",
              "    </tr>\n",
              "    <tr>\n",
              "      <th>43</th>\n",
              "      <td>12</td>\n",
              "      <td>FIRE CONTROL EQPT.</td>\n",
              "    </tr>\n",
              "    <tr>\n",
              "      <th>64</th>\n",
              "      <td>13</td>\n",
              "      <td>AMMUNITION AND EXPLOSIVES</td>\n",
              "    </tr>\n",
              "    <tr>\n",
              "      <th>117</th>\n",
              "      <td>14</td>\n",
              "      <td>GUIDED MISSLES</td>\n",
              "    </tr>\n",
              "    <tr>\n",
              "      <th>...</th>\n",
              "      <td>...</td>\n",
              "      <td>...</td>\n",
              "    </tr>\n",
              "    <tr>\n",
              "      <th>5582</th>\n",
              "      <td>Y3</td>\n",
              "      <td>CONSTRUCT OF RESTORATION ACTIVITIES</td>\n",
              "    </tr>\n",
              "    <tr>\n",
              "      <th>5584</th>\n",
              "      <td>Z</td>\n",
              "      <td>MAINT, REPAIR, ALTER REAL PROPERTY</td>\n",
              "    </tr>\n",
              "    <tr>\n",
              "      <th>5585</th>\n",
              "      <td>Z1</td>\n",
              "      <td>MAINT, ALTER, REPAIR BUILDINGS</td>\n",
              "    </tr>\n",
              "    <tr>\n",
              "      <th>5701</th>\n",
              "      <td>Z2</td>\n",
              "      <td>MAINT, ALTER, REPAIR NONBUILDINGS</td>\n",
              "    </tr>\n",
              "    <tr>\n",
              "      <th>5806</th>\n",
              "      <td>Z3</td>\n",
              "      <td>MAINT, ALTER, REPAIR RESTOR ACVIVS</td>\n",
              "    </tr>\n",
              "  </tbody>\n",
              "</table>\n",
              "<p>187 rows × 2 columns</p>\n",
              "</div>"
            ],
            "text/plain": [
              "     PSC CODE        PRODUCT AND SERVICE CODE NAME\n",
              "0          10                              WEAPONS\n",
              "26         11                     NUCLEAR ORDNANCE\n",
              "43         12                   FIRE CONTROL EQPT.\n",
              "64         13            AMMUNITION AND EXPLOSIVES\n",
              "117        14                       GUIDED MISSLES\n",
              "...       ...                                  ...\n",
              "5582       Y3  CONSTRUCT OF RESTORATION ACTIVITIES\n",
              "5584        Z   MAINT, REPAIR, ALTER REAL PROPERTY\n",
              "5585       Z1       MAINT, ALTER, REPAIR BUILDINGS\n",
              "5701       Z2    MAINT, ALTER, REPAIR NONBUILDINGS\n",
              "5806       Z3   MAINT, ALTER, REPAIR RESTOR ACVIVS\n",
              "\n",
              "[187 rows x 2 columns]"
            ]
          },
          "metadata": {
            "tags": []
          },
          "execution_count": 104
        }
      ]
    },
    {
      "cell_type": "markdown",
      "metadata": {
        "id": "npk0Cx6UEb7z"
      },
      "source": [
        "For our example of the fictional commercial insurance fraud prevention and detection company that is trying to learn more about the Federal market and CMS spending on products and services like theirs, we will mostly focus on CMS spending on PSC_Cat 'D' [IT and Telecom Services and Solutions], 'R' [Professional Services], and '70' [IT Hardware and Software]. The CMS analysis for GFY19 shows that 37% of contract spend is for 'R' and 36% of for 'D' PSC_Cat work. Those together account for $5.2B in CMS contract spending in GFY19. A very robust market for sure.\n",
        "\n",
        "We will narrow our spending search to the topics of 'fraud' and 'program integrity' in subsequent analysis steps."
      ]
    },
    {
      "cell_type": "code",
      "metadata": {
        "id": "Rdg0RpK3Ci4n",
        "outputId": "df0ef02c-767b-4b4d-bfa3-7040bf5c2c55",
        "colab": {
          "base_uri": "https://localhost:8080/",
          "height": 514
        }
      },
      "source": [
        "#Spending by Major Product or Service Code Category\n",
        "df_Obligations_by_PSC = df.groupby(['PSC_Cat'])['federal_action_obligation'].sum().reset_index().sort_values(by='federal_action_obligation', ascending=False)\n",
        "assert df['federal_action_obligation'].sum()/1e9 - df_Obligations_by_PSC['federal_action_obligation'].sum()  < 1.0 #make sure notihng was lost in groupby\n",
        "df_Obligations_by_PSC = df_Obligations_by_PSC.merge(df_PSC_Cat_Lookup, left_on='PSC_Cat', right_on='PSC CODE')[['PSC_Cat', 'PRODUCT AND SERVICE CODE NAME', 'federal_action_obligation']] # add labels\n",
        "total_obligations = df_Obligations_by_PSC['federal_action_obligation'].sum()\n",
        "df_Obligations_by_PSC['Fraction_Of_Total_Spend'] = df_Obligations_by_PSC['federal_action_obligation']/total_obligations\n",
        "df_Obligations_by_PSC['Cumulative_Fraction_Of_Total_Spend'] = df_Obligations_by_PSC['federal_action_obligation'].cumsum()/total_obligations\n",
        "df_Obligations_by_PSC "
      ],
      "execution_count": null,
      "outputs": [
        {
          "output_type": "execute_result",
          "data": {
            "text/html": [
              "<div>\n",
              "<style scoped>\n",
              "    .dataframe tbody tr th:only-of-type {\n",
              "        vertical-align: middle;\n",
              "    }\n",
              "\n",
              "    .dataframe tbody tr th {\n",
              "        vertical-align: top;\n",
              "    }\n",
              "\n",
              "    .dataframe thead th {\n",
              "        text-align: right;\n",
              "    }\n",
              "</style>\n",
              "<table border=\"1\" class=\"dataframe\">\n",
              "  <thead>\n",
              "    <tr style=\"text-align: right;\">\n",
              "      <th></th>\n",
              "      <th>PSC_Cat</th>\n",
              "      <th>PRODUCT AND SERVICE CODE NAME</th>\n",
              "      <th>federal_action_obligation</th>\n",
              "      <th>Fraction_Of_Total_Spend</th>\n",
              "      <th>Cumulative_Fraction_Of_Total_Spend</th>\n",
              "    </tr>\n",
              "  </thead>\n",
              "  <tbody>\n",
              "    <tr>\n",
              "      <th>0</th>\n",
              "      <td>R</td>\n",
              "      <td>SUPPORT SVCS (PROF, ADMIN, MGMT)</td>\n",
              "      <td>2.628692e+09</td>\n",
              "      <td>0.373331</td>\n",
              "      <td>0.373331</td>\n",
              "    </tr>\n",
              "    <tr>\n",
              "      <th>1</th>\n",
              "      <td>D</td>\n",
              "      <td>ADP AND TELECOMMUNICATIONS</td>\n",
              "      <td>2.567304e+09</td>\n",
              "      <td>0.364612</td>\n",
              "      <td>0.737943</td>\n",
              "    </tr>\n",
              "    <tr>\n",
              "      <th>2</th>\n",
              "      <td>G</td>\n",
              "      <td>SOCIAL SERVICES</td>\n",
              "      <td>1.083581e+09</td>\n",
              "      <td>0.153892</td>\n",
              "      <td>0.891834</td>\n",
              "    </tr>\n",
              "    <tr>\n",
              "      <th>3</th>\n",
              "      <td>Q</td>\n",
              "      <td>MEDICAL SERVICES</td>\n",
              "      <td>5.588121e+08</td>\n",
              "      <td>0.079363</td>\n",
              "      <td>0.971198</td>\n",
              "    </tr>\n",
              "    <tr>\n",
              "      <th>4</th>\n",
              "      <td>A</td>\n",
              "      <td>RESEARCH AND DEVELOPMENT</td>\n",
              "      <td>1.666797e+08</td>\n",
              "      <td>0.023672</td>\n",
              "      <td>0.994870</td>\n",
              "    </tr>\n",
              "    <tr>\n",
              "      <th>5</th>\n",
              "      <td>B</td>\n",
              "      <td>SPECIAL STUDIES/ANALYSIS, NOT R&amp;D</td>\n",
              "      <td>3.280715e+07</td>\n",
              "      <td>0.004659</td>\n",
              "      <td>0.999529</td>\n",
              "    </tr>\n",
              "    <tr>\n",
              "      <th>6</th>\n",
              "      <td>U</td>\n",
              "      <td>EDUCATION AND TRAINING</td>\n",
              "      <td>1.701256e+06</td>\n",
              "      <td>0.000242</td>\n",
              "      <td>0.999771</td>\n",
              "    </tr>\n",
              "    <tr>\n",
              "      <th>7</th>\n",
              "      <td>H</td>\n",
              "      <td>QUALITY CONTROL, TEST, INSPECTION</td>\n",
              "      <td>1.263058e+06</td>\n",
              "      <td>0.000179</td>\n",
              "      <td>0.999950</td>\n",
              "    </tr>\n",
              "    <tr>\n",
              "      <th>8</th>\n",
              "      <td>L</td>\n",
              "      <td>TECHNICAL REPRESENTATIVE SVCS.</td>\n",
              "      <td>6.486222e+05</td>\n",
              "      <td>0.000092</td>\n",
              "      <td>1.000042</td>\n",
              "    </tr>\n",
              "    <tr>\n",
              "      <th>9</th>\n",
              "      <td>C</td>\n",
              "      <td>ARCHITECT/ENGINEER SERVICES</td>\n",
              "      <td>6.381190e+05</td>\n",
              "      <td>0.000091</td>\n",
              "      <td>1.000133</td>\n",
              "    </tr>\n",
              "    <tr>\n",
              "      <th>10</th>\n",
              "      <td>E</td>\n",
              "      <td>PURCHASE OF STRUCTURES/FACILITIES</td>\n",
              "      <td>2.233289e+05</td>\n",
              "      <td>0.000032</td>\n",
              "      <td>1.000165</td>\n",
              "    </tr>\n",
              "    <tr>\n",
              "      <th>11</th>\n",
              "      <td>J</td>\n",
              "      <td>MAINT, REPAIR, REBUILD EQUIPMENT</td>\n",
              "      <td>2.007814e+05</td>\n",
              "      <td>0.000029</td>\n",
              "      <td>1.000193</td>\n",
              "    </tr>\n",
              "    <tr>\n",
              "      <th>12</th>\n",
              "      <td>T</td>\n",
              "      <td>PHOTO, MAP, PRINT, PUBLICATION</td>\n",
              "      <td>1.488309e+05</td>\n",
              "      <td>0.000021</td>\n",
              "      <td>1.000214</td>\n",
              "    </tr>\n",
              "    <tr>\n",
              "      <th>13</th>\n",
              "      <td>X</td>\n",
              "      <td>LEASE/RENT FACILITIES</td>\n",
              "      <td>1.644048e+04</td>\n",
              "      <td>0.000002</td>\n",
              "      <td>1.000217</td>\n",
              "    </tr>\n",
              "    <tr>\n",
              "      <th>14</th>\n",
              "      <td>F</td>\n",
              "      <td>NATURAL RESOURCES MANAGEMENT</td>\n",
              "      <td>-1.525027e+06</td>\n",
              "      <td>-0.000217</td>\n",
              "      <td>1.000000</td>\n",
              "    </tr>\n",
              "  </tbody>\n",
              "</table>\n",
              "</div>"
            ],
            "text/plain": [
              "   PSC_Cat  ... Cumulative_Fraction_Of_Total_Spend\n",
              "0        R  ...                           0.373331\n",
              "1        D  ...                           0.737943\n",
              "2        G  ...                           0.891834\n",
              "3        Q  ...                           0.971198\n",
              "4        A  ...                           0.994870\n",
              "5        B  ...                           0.999529\n",
              "6        U  ...                           0.999771\n",
              "7        H  ...                           0.999950\n",
              "8        L  ...                           1.000042\n",
              "9        C  ...                           1.000133\n",
              "10       E  ...                           1.000165\n",
              "11       J  ...                           1.000193\n",
              "12       T  ...                           1.000214\n",
              "13       X  ...                           1.000217\n",
              "14       F  ...                           1.000000\n",
              "\n",
              "[15 rows x 5 columns]"
            ]
          },
          "metadata": {
            "tags": []
          },
          "execution_count": 115
        }
      ]
    },
    {
      "cell_type": "markdown",
      "metadata": {
        "id": "BdSlQpBdF_YX"
      },
      "source": [
        "Let's look at the top recipient_parent_names of the firms that CMS contracts with for all types of services and products. The numner one marketshare firm is '[General Dynamics Corporation](https://www.gdit.com/industries/#health)' with over 14% wallet-share of the ~$7.3B annual contracting budget at CMS.\n",
        "\n",
        "Caveat: using the groupby function on the recipient_name or the recipient_parent_name fields is NOT a robust approach since a single company may show up under different names (e.g., misspellings, acquisitions, etc). There are more robust approaches. I'll describe those in future blog posts. The approach below is ok for illustrating the general techniques to gain context."
      ]
    },
    {
      "cell_type": "code",
      "metadata": {
        "id": "2vxq8WuBDJrj",
        "outputId": "5cf7b462-b3de-424b-afac-af7c329b9e48",
        "colab": {
          "base_uri": "https://localhost:8080/",
          "height": 514
        }
      },
      "source": [
        "# Top Contractors for all services and products\n",
        "df_Obligations_by_Recipient_Parent_Name = df.groupby(['recipient_parent_name'])['federal_action_obligation'].sum().reset_index().sort_values(by='federal_action_obligation', ascending=False)\n",
        "assert df['federal_action_obligation'].sum()/1e9 - df_Obligations_by_Recipient_Parent_Name['federal_action_obligation'].sum()  < 1.0 #make sure notihng was lost in groupby\n",
        "total_obligations = df_Obligations_by_Recipient_Parent_Name['federal_action_obligation'].sum()\n",
        "df_Obligations_by_Recipient_Parent_Name['Fraction_Of_Total_Spend'] = df_Obligations_by_Recipient_Parent_Name['federal_action_obligation']/total_obligations\n",
        "df_Obligations_by_Recipient_Parent_Name['Cumulative_Fraction_Of_Total_Spend'] = df_Obligations_by_Recipient_Parent_Name['federal_action_obligation'].cumsum()/total_obligations\n",
        "df_Obligations_by_Recipient_Parent_Name.head(15)"
      ],
      "execution_count": null,
      "outputs": [
        {
          "output_type": "execute_result",
          "data": {
            "text/html": [
              "<div>\n",
              "<style scoped>\n",
              "    .dataframe tbody tr th:only-of-type {\n",
              "        vertical-align: middle;\n",
              "    }\n",
              "\n",
              "    .dataframe tbody tr th {\n",
              "        vertical-align: top;\n",
              "    }\n",
              "\n",
              "    .dataframe thead th {\n",
              "        text-align: right;\n",
              "    }\n",
              "</style>\n",
              "<table border=\"1\" class=\"dataframe\">\n",
              "  <thead>\n",
              "    <tr style=\"text-align: right;\">\n",
              "      <th></th>\n",
              "      <th>recipient_parent_name</th>\n",
              "      <th>federal_action_obligation</th>\n",
              "      <th>Fraction_Of_Total_Spend</th>\n",
              "      <th>Cumulative_Fraction_Of_Total_Spend</th>\n",
              "    </tr>\n",
              "  </thead>\n",
              "  <tbody>\n",
              "    <tr>\n",
              "      <th>224</th>\n",
              "      <td>GENERAL DYNAMICS CORPORATION</td>\n",
              "      <td>1.022924e+09</td>\n",
              "      <td>0.142019</td>\n",
              "      <td>0.142019</td>\n",
              "    </tr>\n",
              "    <tr>\n",
              "      <th>82</th>\n",
              "      <td>BLUE CROSS AND BLUE SHIELD OF SOUTH CAROLINA</td>\n",
              "      <td>4.112163e+08</td>\n",
              "      <td>0.057092</td>\n",
              "      <td>0.199111</td>\n",
              "    </tr>\n",
              "    <tr>\n",
              "      <th>314</th>\n",
              "      <td>LIVANTA LLC</td>\n",
              "      <td>2.812858e+08</td>\n",
              "      <td>0.039053</td>\n",
              "      <td>0.238164</td>\n",
              "    </tr>\n",
              "    <tr>\n",
              "      <th>564</th>\n",
              "      <td>WELLPOINT  INC.</td>\n",
              "      <td>2.604205e+08</td>\n",
              "      <td>0.036156</td>\n",
              "      <td>0.274319</td>\n",
              "    </tr>\n",
              "    <tr>\n",
              "      <th>387</th>\n",
              "      <td>NORIDIAN MUTUAL INSURANCE COMPANY</td>\n",
              "      <td>2.369032e+08</td>\n",
              "      <td>0.032891</td>\n",
              "      <td>0.307210</td>\n",
              "    </tr>\n",
              "    <tr>\n",
              "      <th>308</th>\n",
              "      <td>LEIDOS HOLDINGS  INC.</td>\n",
              "      <td>2.193119e+08</td>\n",
              "      <td>0.030448</td>\n",
              "      <td>0.337659</td>\n",
              "    </tr>\n",
              "    <tr>\n",
              "      <th>81</th>\n",
              "      <td>BLUE CROSS AND BLUE SHIELD OF FLORIDA  INC.</td>\n",
              "      <td>2.011033e+08</td>\n",
              "      <td>0.027920</td>\n",
              "      <td>0.365579</td>\n",
              "    </tr>\n",
              "    <tr>\n",
              "      <th>461</th>\n",
              "      <td>SERCO GROUP PLC</td>\n",
              "      <td>1.988358e+08</td>\n",
              "      <td>0.027606</td>\n",
              "      <td>0.393185</td>\n",
              "    </tr>\n",
              "    <tr>\n",
              "      <th>294</th>\n",
              "      <td>KEYSTONE PEER REVIEW ORGANIZATION  INC.</td>\n",
              "      <td>1.568191e+08</td>\n",
              "      <td>0.021772</td>\n",
              "      <td>0.414957</td>\n",
              "    </tr>\n",
              "    <tr>\n",
              "      <th>512</th>\n",
              "      <td>THE MITRE CORPORATION</td>\n",
              "      <td>1.456987e+08</td>\n",
              "      <td>0.020228</td>\n",
              "      <td>0.435185</td>\n",
              "    </tr>\n",
              "    <tr>\n",
              "      <th>17</th>\n",
              "      <td>ACCENTURE INC.</td>\n",
              "      <td>1.394945e+08</td>\n",
              "      <td>0.019367</td>\n",
              "      <td>0.454552</td>\n",
              "    </tr>\n",
              "    <tr>\n",
              "      <th>86</th>\n",
              "      <td>BOOZ ALLEN HAMILTON HOLDING CORPORATION</td>\n",
              "      <td>1.342278e+08</td>\n",
              "      <td>0.018636</td>\n",
              "      <td>0.473188</td>\n",
              "    </tr>\n",
              "    <tr>\n",
              "      <th>380</th>\n",
              "      <td>NEWWAVE TELECOM AND TECHNOLOGIES  INC.</td>\n",
              "      <td>1.276187e+08</td>\n",
              "      <td>0.017718</td>\n",
              "      <td>0.490906</td>\n",
              "    </tr>\n",
              "    <tr>\n",
              "      <th>330</th>\n",
              "      <td>MATHEMATICA  INC.</td>\n",
              "      <td>1.246212e+08</td>\n",
              "      <td>0.017302</td>\n",
              "      <td>0.508208</td>\n",
              "    </tr>\n",
              "    <tr>\n",
              "      <th>409</th>\n",
              "      <td>PERSPECTA INC.</td>\n",
              "      <td>1.222331e+08</td>\n",
              "      <td>0.016970</td>\n",
              "      <td>0.525178</td>\n",
              "    </tr>\n",
              "  </tbody>\n",
              "</table>\n",
              "</div>"
            ],
            "text/plain": [
              "                            recipient_parent_name  ...  Cumulative_Fraction_Of_Total_Spend\n",
              "224                  GENERAL DYNAMICS CORPORATION  ...                            0.142019\n",
              "82   BLUE CROSS AND BLUE SHIELD OF SOUTH CAROLINA  ...                            0.199111\n",
              "314                                   LIVANTA LLC  ...                            0.238164\n",
              "564                               WELLPOINT  INC.  ...                            0.274319\n",
              "387             NORIDIAN MUTUAL INSURANCE COMPANY  ...                            0.307210\n",
              "308                         LEIDOS HOLDINGS  INC.  ...                            0.337659\n",
              "81    BLUE CROSS AND BLUE SHIELD OF FLORIDA  INC.  ...                            0.365579\n",
              "461                               SERCO GROUP PLC  ...                            0.393185\n",
              "294       KEYSTONE PEER REVIEW ORGANIZATION  INC.  ...                            0.414957\n",
              "512                         THE MITRE CORPORATION  ...                            0.435185\n",
              "17                                 ACCENTURE INC.  ...                            0.454552\n",
              "86        BOOZ ALLEN HAMILTON HOLDING CORPORATION  ...                            0.473188\n",
              "380        NEWWAVE TELECOM AND TECHNOLOGIES  INC.  ...                            0.490906\n",
              "330                             MATHEMATICA  INC.  ...                            0.508208\n",
              "409                                PERSPECTA INC.  ...                            0.525178\n",
              "\n",
              "[15 rows x 4 columns]"
            ]
          },
          "metadata": {
            "tags": []
          },
          "execution_count": 118
        }
      ]
    },
    {
      "cell_type": "markdown",
      "metadata": {
        "id": "_yZUO2D9G1Qk"
      },
      "source": [
        "We can quickly see which major categories of products and services they purchase from GD with a line of pandas code."
      ]
    },
    {
      "cell_type": "code",
      "metadata": {
        "id": "2DV6k04lGz8P",
        "outputId": "6c5c6b53-3a03-49df-849f-726d9ee89349",
        "colab": {
          "base_uri": "https://localhost:8080/",
          "height": 297
        }
      },
      "source": [
        "df.query('recipient_parent_name == \"GENERAL DYNAMICS CORPORATION\"').groupby(['product_or_service_code', 'product_or_service_code_description'])['federal_action_obligation'].sum().reset_index().sort_values(by='federal_action_obligation', ascending=False)"
      ],
      "execution_count": null,
      "outputs": [
        {
          "output_type": "execute_result",
          "data": {
            "text/html": [
              "<div>\n",
              "<style scoped>\n",
              "    .dataframe tbody tr th:only-of-type {\n",
              "        vertical-align: middle;\n",
              "    }\n",
              "\n",
              "    .dataframe tbody tr th {\n",
              "        vertical-align: top;\n",
              "    }\n",
              "\n",
              "    .dataframe thead th {\n",
              "        text-align: right;\n",
              "    }\n",
              "</style>\n",
              "<table border=\"1\" class=\"dataframe\">\n",
              "  <thead>\n",
              "    <tr style=\"text-align: right;\">\n",
              "      <th></th>\n",
              "      <th>product_or_service_code</th>\n",
              "      <th>product_or_service_code_description</th>\n",
              "      <th>federal_action_obligation</th>\n",
              "    </tr>\n",
              "  </thead>\n",
              "  <tbody>\n",
              "    <tr>\n",
              "      <th>6</th>\n",
              "      <td>R499</td>\n",
              "      <td>SUPPORT- PROFESSIONAL: OTHER</td>\n",
              "      <td>6.836905e+08</td>\n",
              "    </tr>\n",
              "    <tr>\n",
              "      <th>5</th>\n",
              "      <td>D399</td>\n",
              "      <td>IT AND TELECOM- OTHER IT AND TELECOMMUNICATIONS</td>\n",
              "      <td>1.944262e+08</td>\n",
              "    </tr>\n",
              "    <tr>\n",
              "      <th>1</th>\n",
              "      <td>D301</td>\n",
              "      <td>IT AND TELECOM- FACILITY OPERATION AND MAINTEN...</td>\n",
              "      <td>8.652346e+07</td>\n",
              "    </tr>\n",
              "    <tr>\n",
              "      <th>4</th>\n",
              "      <td>D308</td>\n",
              "      <td>IT AND TELECOM- PROGRAMMING</td>\n",
              "      <td>2.466630e+07</td>\n",
              "    </tr>\n",
              "    <tr>\n",
              "      <th>3</th>\n",
              "      <td>D306</td>\n",
              "      <td>IT AND TELECOM- SYSTEMS ANALYSIS</td>\n",
              "      <td>2.044799e+07</td>\n",
              "    </tr>\n",
              "    <tr>\n",
              "      <th>2</th>\n",
              "      <td>D302</td>\n",
              "      <td>IT AND TELECOM- SYSTEMS DEVELOPMENT</td>\n",
              "      <td>1.241390e+07</td>\n",
              "    </tr>\n",
              "    <tr>\n",
              "      <th>7</th>\n",
              "      <td>R702</td>\n",
              "      <td>SUPPORT- MANAGEMENT: DATA COLLECTION</td>\n",
              "      <td>7.552850e+05</td>\n",
              "    </tr>\n",
              "    <tr>\n",
              "      <th>0</th>\n",
              "      <td>AN42</td>\n",
              "      <td>R&amp;D- MEDICAL: HEALTH SERVICES (APPLIED RESEARC...</td>\n",
              "      <td>0.000000e+00</td>\n",
              "    </tr>\n",
              "  </tbody>\n",
              "</table>\n",
              "</div>"
            ],
            "text/plain": [
              "  product_or_service_code  ... federal_action_obligation\n",
              "6                    R499  ...              6.836905e+08\n",
              "5                    D399  ...              1.944262e+08\n",
              "1                    D301  ...              8.652346e+07\n",
              "4                    D308  ...              2.466630e+07\n",
              "3                    D306  ...              2.044799e+07\n",
              "2                    D302  ...              1.241390e+07\n",
              "7                    R702  ...              7.552850e+05\n",
              "0                    AN42  ...              0.000000e+00\n",
              "\n",
              "[8 rows x 3 columns]"
            ]
          },
          "metadata": {
            "tags": []
          },
          "execution_count": 257
        }
      ]
    },
    {
      "cell_type": "markdown",
      "metadata": {
        "id": "ReBY60WgIU6L"
      },
      "source": [
        "If our interests are strictly to look at CMS spending on programs where the government has characterized the majority of the work as 'IT and Telecom Services', we can restrict our analysis to PSC_Cat == 'D'. "
      ]
    },
    {
      "cell_type": "code",
      "metadata": {
        "id": "zZpkeh2pDXRI",
        "outputId": "7ff1240e-c7f6-46c0-9004-c14109464490",
        "colab": {
          "base_uri": "https://localhost:8080/",
          "height": 738
        }
      },
      "source": [
        "# IT and Telecom Services Only \n",
        "PSC_CAT = ['D']\n",
        "df_Obligations_by_X = df.query(\"PSC_Cat in @PSC_CAT\").groupby(['recipient_parent_name'])['federal_action_obligation'].sum().reset_index().sort_values(by='federal_action_obligation', ascending=False)\n",
        "assert df['federal_action_obligation'].sum()/1e9 - df_Obligations_by_X['federal_action_obligation'].sum()  < 1.0 #make sure notihng was lost in groupby\n",
        "total_obligations = df_Obligations_by_X['federal_action_obligation'].sum()\n",
        "df_Obligations_by_X['Fraction_Of_Total_Spend_for_PSC_CAT'] = df_Obligations_by_X['federal_action_obligation']/total_obligations\n",
        "df_Obligations_by_X['Cumulative_Fraction_Of_Total_Spend_for_PSC_CAT'] = df_Obligations_by_X['federal_action_obligation'].cumsum()/total_obligations\n",
        "df_Obligations_by_X['Fraction_Of_Total_Spend_for_Agency_Contracting'] = df_Obligations_by_X['federal_action_obligation']/df_Obligations_by_Recipient_Parent_Name['federal_action_obligation'].sum()\n",
        "df_Obligations_by_X.head(15)"
      ],
      "execution_count": null,
      "outputs": [
        {
          "output_type": "execute_result",
          "data": {
            "text/html": [
              "<div>\n",
              "<style scoped>\n",
              "    .dataframe tbody tr th:only-of-type {\n",
              "        vertical-align: middle;\n",
              "    }\n",
              "\n",
              "    .dataframe tbody tr th {\n",
              "        vertical-align: top;\n",
              "    }\n",
              "\n",
              "    .dataframe thead th {\n",
              "        text-align: right;\n",
              "    }\n",
              "</style>\n",
              "<table border=\"1\" class=\"dataframe\">\n",
              "  <thead>\n",
              "    <tr style=\"text-align: right;\">\n",
              "      <th></th>\n",
              "      <th>recipient_parent_name</th>\n",
              "      <th>federal_action_obligation</th>\n",
              "      <th>Fraction_Of_Total_Spend_for_PSC_CAT</th>\n",
              "      <th>Cumulative_Fraction_Of_Total_Spend_for_PSC_CAT</th>\n",
              "      <th>Fraction_Of_Total_Spend_for_Agency_Contracting</th>\n",
              "    </tr>\n",
              "  </thead>\n",
              "  <tbody>\n",
              "    <tr>\n",
              "      <th>88</th>\n",
              "      <td>GENERAL DYNAMICS CORPORATION</td>\n",
              "      <td>3.384779e+08</td>\n",
              "      <td>0.131842</td>\n",
              "      <td>0.131842</td>\n",
              "      <td>0.046993</td>\n",
              "    </tr>\n",
              "    <tr>\n",
              "      <th>114</th>\n",
              "      <td>LEIDOS HOLDINGS  INC.</td>\n",
              "      <td>2.193119e+08</td>\n",
              "      <td>0.085425</td>\n",
              "      <td>0.217267</td>\n",
              "      <td>0.030448</td>\n",
              "    </tr>\n",
              "    <tr>\n",
              "      <th>137</th>\n",
              "      <td>NEWWAVE TELECOM AND TECHNOLOGIES  INC.</td>\n",
              "      <td>1.276187e+08</td>\n",
              "      <td>0.049709</td>\n",
              "      <td>0.266976</td>\n",
              "      <td>0.017718</td>\n",
              "    </tr>\n",
              "    <tr>\n",
              "      <th>204</th>\n",
              "      <td>VENTECH SOLUTIONS INC.</td>\n",
              "      <td>1.195800e+08</td>\n",
              "      <td>0.046578</td>\n",
              "      <td>0.313554</td>\n",
              "      <td>0.016602</td>\n",
              "    </tr>\n",
              "    <tr>\n",
              "      <th>150</th>\n",
              "      <td>PERSPECTA INC.</td>\n",
              "      <td>1.145043e+08</td>\n",
              "      <td>0.044601</td>\n",
              "      <td>0.358155</td>\n",
              "      <td>0.015897</td>\n",
              "    </tr>\n",
              "    <tr>\n",
              "      <th>85</th>\n",
              "      <td>FOUR LLC</td>\n",
              "      <td>1.109889e+08</td>\n",
              "      <td>0.043232</td>\n",
              "      <td>0.401387</td>\n",
              "      <td>0.015409</td>\n",
              "    </tr>\n",
              "    <tr>\n",
              "      <th>192</th>\n",
              "      <td>TISTA SCIENCE AND TECHNOLOGY CORPORATION</td>\n",
              "      <td>9.198456e+07</td>\n",
              "      <td>0.035829</td>\n",
              "      <td>0.437216</td>\n",
              "      <td>0.012771</td>\n",
              "    </tr>\n",
              "    <tr>\n",
              "      <th>46</th>\n",
              "      <td>CGI TECHNOLOGIES AND SOLUTIONS INC.</td>\n",
              "      <td>9.170574e+07</td>\n",
              "      <td>0.035721</td>\n",
              "      <td>0.472937</td>\n",
              "      <td>0.012732</td>\n",
              "    </tr>\n",
              "    <tr>\n",
              "      <th>34</th>\n",
              "      <td>BOOZ ALLEN HAMILTON HOLDING CORPORATION</td>\n",
              "      <td>6.848598e+07</td>\n",
              "      <td>0.026676</td>\n",
              "      <td>0.499613</td>\n",
              "      <td>0.009508</td>\n",
              "    </tr>\n",
              "    <tr>\n",
              "      <th>213</th>\n",
              "      <td>WELLPOINT  INC.</td>\n",
              "      <td>6.558268e+07</td>\n",
              "      <td>0.025545</td>\n",
              "      <td>0.525158</td>\n",
              "      <td>0.009105</td>\n",
              "    </tr>\n",
              "    <tr>\n",
              "      <th>124</th>\n",
              "      <td>MAXIMUS  INC.</td>\n",
              "      <td>6.407770e+07</td>\n",
              "      <td>0.024959</td>\n",
              "      <td>0.550117</td>\n",
              "      <td>0.008896</td>\n",
              "    </tr>\n",
              "    <tr>\n",
              "      <th>32</th>\n",
              "      <td>BLUE CROSS AND BLUE SHIELD OF SOUTH CAROLINA</td>\n",
              "      <td>6.358133e+07</td>\n",
              "      <td>0.024766</td>\n",
              "      <td>0.574883</td>\n",
              "      <td>0.008827</td>\n",
              "    </tr>\n",
              "    <tr>\n",
              "      <th>164</th>\n",
              "      <td>SEMANTICBITS  LLC</td>\n",
              "      <td>6.029326e+07</td>\n",
              "      <td>0.023485</td>\n",
              "      <td>0.598368</td>\n",
              "      <td>0.008371</td>\n",
              "    </tr>\n",
              "    <tr>\n",
              "      <th>47</th>\n",
              "      <td>CHAGS HEALTH INFORMATION TECHNOLOGY LLC</td>\n",
              "      <td>5.967049e+07</td>\n",
              "      <td>0.023242</td>\n",
              "      <td>0.621611</td>\n",
              "      <td>0.008284</td>\n",
              "    </tr>\n",
              "    <tr>\n",
              "      <th>201</th>\n",
              "      <td>UNITED HEALTHCARE SERVICES  INC.</td>\n",
              "      <td>5.383235e+07</td>\n",
              "      <td>0.020968</td>\n",
              "      <td>0.642579</td>\n",
              "      <td>0.007474</td>\n",
              "    </tr>\n",
              "  </tbody>\n",
              "</table>\n",
              "</div>"
            ],
            "text/plain": [
              "                            recipient_parent_name  ...  Fraction_Of_Total_Spend_for_Agency_Contracting\n",
              "88                   GENERAL DYNAMICS CORPORATION  ...                                        0.046993\n",
              "114                         LEIDOS HOLDINGS  INC.  ...                                        0.030448\n",
              "137        NEWWAVE TELECOM AND TECHNOLOGIES  INC.  ...                                        0.017718\n",
              "204                        VENTECH SOLUTIONS INC.  ...                                        0.016602\n",
              "150                                PERSPECTA INC.  ...                                        0.015897\n",
              "85                                       FOUR LLC  ...                                        0.015409\n",
              "192      TISTA SCIENCE AND TECHNOLOGY CORPORATION  ...                                        0.012771\n",
              "46            CGI TECHNOLOGIES AND SOLUTIONS INC.  ...                                        0.012732\n",
              "34        BOOZ ALLEN HAMILTON HOLDING CORPORATION  ...                                        0.009508\n",
              "213                               WELLPOINT  INC.  ...                                        0.009105\n",
              "124                                 MAXIMUS  INC.  ...                                        0.008896\n",
              "32   BLUE CROSS AND BLUE SHIELD OF SOUTH CAROLINA  ...                                        0.008827\n",
              "164                             SEMANTICBITS  LLC  ...                                        0.008371\n",
              "47        CHAGS HEALTH INFORMATION TECHNOLOGY LLC  ...                                        0.008284\n",
              "201              UNITED HEALTHCARE SERVICES  INC.  ...                                        0.007474\n",
              "\n",
              "[15 rows x 5 columns]"
            ]
          },
          "metadata": {
            "tags": []
          },
          "execution_count": 126
        }
      ]
    },
    {
      "cell_type": "markdown",
      "metadata": {
        "id": "YztCLNoAIvWn"
      },
      "source": [
        "Next, we want to focus on the original intent of our analysis from the Example Scenario. We want to know how much money CMS is contracting for services and solutions that relate to 'fraud' and 'program integrity' so we can get a sense of the TAM (Total Available Market) at CMS for our fictional firm's expertise."
      ]
    },
    {
      "cell_type": "code",
      "metadata": {
        "id": "AV1BeGyx7qKm"
      },
      "source": [
        "def Terms_In_Text(text, terms=[]):\n",
        "  text = text.lower()\n",
        "  for aTerm in terms:\n",
        "    if aTerm in text:\n",
        "      return True\n",
        "  return False"
      ],
      "execution_count": null,
      "outputs": []
    },
    {
      "cell_type": "code",
      "metadata": {
        "id": "U_1_16_YEEef"
      },
      "source": [
        "search_terms_list = ['fraud','program integrity']"
      ],
      "execution_count": null,
      "outputs": []
    },
    {
      "cell_type": "markdown",
      "metadata": {
        "id": "LYP63igjJMC3"
      },
      "source": [
        "Let's first search the text in the field (column) award_description for our search terms (BTW: feel free to change the terms in the line above and try other searches)."
      ]
    },
    {
      "cell_type": "code",
      "metadata": {
        "id": "6G0Z5Te969sO",
        "outputId": "4915fe32-16c5-4939-d501-c2bee7bdd55e",
        "colab": {
          "base_uri": "https://localhost:8080/",
          "height": 221
        }
      },
      "source": [
        "df_search_term_awards_matches = df[df['award_description'].apply(lambda x: Terms_In_Text(x, terms = search_terms_list))]\n",
        "df_search_term_awards_matches['award_description']"
      ],
      "execution_count": null,
      "outputs": [
        {
          "output_type": "execute_result",
          "data": {
            "text/plain": [
              "26      IGF::OT::IGF UNIFIED PROGRAM INTEGRITY CONTRAC...\n",
              "29      IGF::OT::IGF - PROGRAM INTEGRITY OUTREACH AND ...\n",
              "71      IGF::OT::IGF UNIFIED PROGRAM INTEGRITY CONTRAC...\n",
              "97      IGF::OT::IGF UNIFIED PROGRAM INTEGRITY CONTRAC...\n",
              "110     IGF::OT::IGF - PROGRAM INTEGRITY OUTREACH AND ...\n",
              "                              ...                        \n",
              "3412    THE CENTER FOR PROGRAM INTEGRITY (CPI) SEEKS T...\n",
              "3467    THIS CONTRACT IS TO PROVIDE CPI WITH SUPPORT W...\n",
              "3635    UPIC MIDWESTERN JURISDICTION WORK TASK ORDER 1...\n",
              "3671    UPIC MIDWESTERN JURISDICTION WORK TASK ORDER 1...\n",
              "3731    AWARD OF HEALTHCARE FRAUD PREVENTION AND PARTN...\n",
              "Name: award_description, Length: 75, dtype: object"
            ]
          },
          "metadata": {
            "tags": []
          },
          "execution_count": 260
        }
      ]
    },
    {
      "cell_type": "markdown",
      "metadata": {
        "id": "IoDTVS35JcR-"
      },
      "source": [
        "How big the market in $B? *Note: that is NOT exact since the award_description field may not mention fraud though the work is for that type of contract.*"
      ]
    },
    {
      "cell_type": "code",
      "metadata": {
        "id": "EZv2D5oSEgiT",
        "outputId": "74594ad1-36b2-4e21-e5ae-7a370952ae9f",
        "colab": {
          "base_uri": "https://localhost:8080/",
          "height": 34
        }
      },
      "source": [
        "# spending in $B\n",
        "df_search_term_awards_matches['federal_action_obligation'].sum()/1e9"
      ],
      "execution_count": null,
      "outputs": [
        {
          "output_type": "execute_result",
          "data": {
            "text/plain": [
              "0.19790765453"
            ]
          },
          "metadata": {
            "tags": []
          },
          "execution_count": 304
        }
      ]
    },
    {
      "cell_type": "markdown",
      "metadata": {
        "id": "EOTqk5-EJuIQ"
      },
      "source": [
        "Which firms are the major players in this type of work?"
      ]
    },
    {
      "cell_type": "code",
      "metadata": {
        "id": "EzAWJyegFXH7",
        "outputId": "3b1185ca-9943-44c6-e6de-190735ef2e76",
        "colab": {
          "base_uri": "https://localhost:8080/",
          "height": 545
        }
      },
      "source": [
        "df_search_term_contractors = df_search_term_awards_matches.groupby(['recipient_parent_name'])['federal_action_obligation'].sum().reset_index().sort_values(by='federal_action_obligation', ascending=False)\n",
        "df_search_term_contractors = df_search_term_contractors[df_search_term_contractors['federal_action_obligation'] > 0.0]\n",
        "df_search_term_contractors['Fraction_Of_Total_Spend_for_Agency_Contracting'] = df_search_term_contractors['federal_action_obligation']/df_Obligations_by_Recipient_Parent_Name['federal_action_obligation'].sum()\n",
        "df_search_term_contractors"
      ],
      "execution_count": null,
      "outputs": [
        {
          "output_type": "execute_result",
          "data": {
            "text/html": [
              "<div>\n",
              "<style scoped>\n",
              "    .dataframe tbody tr th:only-of-type {\n",
              "        vertical-align: middle;\n",
              "    }\n",
              "\n",
              "    .dataframe tbody tr th {\n",
              "        vertical-align: top;\n",
              "    }\n",
              "\n",
              "    .dataframe thead th {\n",
              "        text-align: right;\n",
              "    }\n",
              "</style>\n",
              "<table border=\"1\" class=\"dataframe\">\n",
              "  <thead>\n",
              "    <tr style=\"text-align: right;\">\n",
              "      <th></th>\n",
              "      <th>recipient_parent_name</th>\n",
              "      <th>federal_action_obligation</th>\n",
              "      <th>Fraction_Of_Total_Spend_for_Agency_Contracting</th>\n",
              "    </tr>\n",
              "  </thead>\n",
              "  <tbody>\n",
              "    <tr>\n",
              "      <th>19</th>\n",
              "      <td>QUALITY HEALTH STRATEGIES  INC.</td>\n",
              "      <td>58019013.00</td>\n",
              "      <td>0.008055</td>\n",
              "    </tr>\n",
              "    <tr>\n",
              "      <th>6</th>\n",
              "      <td>GENERAL DYNAMICS CORPORATION</td>\n",
              "      <td>31117363.20</td>\n",
              "      <td>0.004320</td>\n",
              "    </tr>\n",
              "    <tr>\n",
              "      <th>1</th>\n",
              "      <td>ADVANCEMED CORPORATION</td>\n",
              "      <td>28205285.72</td>\n",
              "      <td>0.003916</td>\n",
              "    </tr>\n",
              "    <tr>\n",
              "      <th>16</th>\n",
              "      <td>NORTHROP GRUMMAN CORPORATION</td>\n",
              "      <td>24165406.00</td>\n",
              "      <td>0.003355</td>\n",
              "    </tr>\n",
              "    <tr>\n",
              "      <th>8</th>\n",
              "      <td>HEWLETT PACKARD ENTERPRISE COMPANY</td>\n",
              "      <td>20417718.99</td>\n",
              "      <td>0.002835</td>\n",
              "    </tr>\n",
              "    <tr>\n",
              "      <th>4</th>\n",
              "      <td>DELOITTE LLP</td>\n",
              "      <td>9706963.00</td>\n",
              "      <td>0.001348</td>\n",
              "    </tr>\n",
              "    <tr>\n",
              "      <th>3</th>\n",
              "      <td>DANIEL J. EDELMAN  INC.</td>\n",
              "      <td>6998571.00</td>\n",
              "      <td>0.000972</td>\n",
              "    </tr>\n",
              "    <tr>\n",
              "      <th>10</th>\n",
              "      <td>INNOVISS  INC.</td>\n",
              "      <td>3930929.00</td>\n",
              "      <td>0.000546</td>\n",
              "    </tr>\n",
              "    <tr>\n",
              "      <th>0</th>\n",
              "      <td>A. REDDIX &amp; ASSOCIATES INC.</td>\n",
              "      <td>3835197.00</td>\n",
              "      <td>0.000532</td>\n",
              "    </tr>\n",
              "    <tr>\n",
              "      <th>5</th>\n",
              "      <td>FU ASSOCIATES LIMITED</td>\n",
              "      <td>3205975.00</td>\n",
              "      <td>0.000445</td>\n",
              "    </tr>\n",
              "    <tr>\n",
              "      <th>20</th>\n",
              "      <td>REVEAL GLOBAL CONSULTING LLC</td>\n",
              "      <td>3166781.04</td>\n",
              "      <td>0.000440</td>\n",
              "    </tr>\n",
              "    <tr>\n",
              "      <th>12</th>\n",
              "      <td>KPMG L.L.P.</td>\n",
              "      <td>2843155.37</td>\n",
              "      <td>0.000395</td>\n",
              "    </tr>\n",
              "    <tr>\n",
              "      <th>14</th>\n",
              "      <td>NOBLIS  INC.</td>\n",
              "      <td>1117515.00</td>\n",
              "      <td>0.000155</td>\n",
              "    </tr>\n",
              "    <tr>\n",
              "      <th>13</th>\n",
              "      <td>NEIL HOOSIER &amp; ASSOCIATES  INC.</td>\n",
              "      <td>509332.00</td>\n",
              "      <td>0.000071</td>\n",
              "    </tr>\n",
              "    <tr>\n",
              "      <th>11</th>\n",
              "      <td>INTERNATIONAL BUSINESS MACHINES CORPORATION</td>\n",
              "      <td>378669.00</td>\n",
              "      <td>0.000053</td>\n",
              "    </tr>\n",
              "    <tr>\n",
              "      <th>2</th>\n",
              "      <td>AXIS CONSULTANT GROUP AND ASSOCIATES LLC</td>\n",
              "      <td>298536.28</td>\n",
              "      <td>0.000041</td>\n",
              "    </tr>\n",
              "  </tbody>\n",
              "</table>\n",
              "</div>"
            ],
            "text/plain": [
              "                          recipient_parent_name  ...  Fraction_Of_Total_Spend_for_Agency_Contracting\n",
              "19              QUALITY HEALTH STRATEGIES  INC.  ...                                        0.008055\n",
              "6                  GENERAL DYNAMICS CORPORATION  ...                                        0.004320\n",
              "1                        ADVANCEMED CORPORATION  ...                                        0.003916\n",
              "16                 NORTHROP GRUMMAN CORPORATION  ...                                        0.003355\n",
              "8            HEWLETT PACKARD ENTERPRISE COMPANY  ...                                        0.002835\n",
              "4                                  DELOITTE LLP  ...                                        0.001348\n",
              "3                       DANIEL J. EDELMAN  INC.  ...                                        0.000972\n",
              "10                               INNOVISS  INC.  ...                                        0.000546\n",
              "0                   A. REDDIX & ASSOCIATES INC.  ...                                        0.000532\n",
              "5                         FU ASSOCIATES LIMITED  ...                                        0.000445\n",
              "20                 REVEAL GLOBAL CONSULTING LLC  ...                                        0.000440\n",
              "12                                  KPMG L.L.P.  ...                                        0.000395\n",
              "14                                 NOBLIS  INC.  ...                                        0.000155\n",
              "13              NEIL HOOSIER & ASSOCIATES  INC.  ...                                        0.000071\n",
              "11  INTERNATIONAL BUSINESS MACHINES CORPORATION  ...                                        0.000053\n",
              "2      AXIS CONSULTANT GROUP AND ASSOCIATES LLC  ...                                        0.000041\n",
              "\n",
              "[16 rows x 3 columns]"
            ]
          },
          "metadata": {
            "tags": []
          },
          "execution_count": 130
        }
      ]
    },
    {
      "cell_type": "markdown",
      "metadata": {
        "id": "_w-X8civJ5WP"
      },
      "source": [
        "Let's plot the data. BTW: you can copy and paste the graphics into a Powerpoint slide. I will explore the other rich plots available in Python and also experiment with dashboards in future blog posts."
      ]
    },
    {
      "cell_type": "code",
      "metadata": {
        "id": "RmmGQMqrIXBq",
        "outputId": "49d45c6d-5437-430b-b7c2-0b15aa10b0b9",
        "colab": {
          "base_uri": "https://localhost:8080/",
          "height": 566
        }
      },
      "source": [
        "df_search_term_contractors.set_index('recipient_parent_name').plot.bar(y='federal_action_obligation', title='FY19 CMS Obligations: ' + \"+\".join(search_terms_list), grid=True, fig=(10,10))"
      ],
      "execution_count": null,
      "outputs": [
        {
          "output_type": "execute_result",
          "data": {
            "text/plain": [
              "<matplotlib.axes._subplots.AxesSubplot at 0x7efc10baf8d0>"
            ]
          },
          "metadata": {
            "tags": []
          },
          "execution_count": 134
        },
        {
          "output_type": "display_data",
          "data": {
            "image/png": "[encoded data removed]",
            "text/plain": [
              "<Figure size 432x288 with 1 Axes>"
            ]
          },
          "metadata": {
            "tags": [],
            "needs_background": "light"
          }
        }
      ]
    },
    {
      "cell_type": "markdown",
      "metadata": {
        "id": "ix8VsifAKQEJ"
      },
      "source": [
        "Another way to look at this market is to explore whether the major_program field includes references to \"fraud\" and/or \"program integrity\". Let's search those."
      ]
    },
    {
      "cell_type": "code",
      "metadata": {
        "id": "93VfgPBG4qof",
        "outputId": "46563390-6d7b-4f86-9033-3f824d78d97a",
        "colab": {
          "base_uri": "https://localhost:8080/",
          "height": 221
        }
      },
      "source": [
        "# you can also search for major_program names that include the search terms also to see if there are pograms we missed that match our search criteria\n",
        "df_search_term_program_names_matches = df[df['major_program'].apply(lambda x: Terms_In_Text(x, terms = search_terms_list))]\n",
        "df_search_term_program_names_matches['major_program']"
      ],
      "execution_count": null,
      "outputs": [
        {
          "output_type": "execute_result",
          "data": {
            "text/plain": [
              "26              UNIFIED PROGRAM INTEGRITY CONTRACT (UPIC)\n",
              "71              UNIFIED PROGRAM INTEGRITY CONTRACT (UPIC)\n",
              "97              UNIFIED PROGRAM INTEGRITY CONTRACT (UPIC)\n",
              "376             UNIFIED PROGRAM INTEGRITY CONTRACT (UPIC)\n",
              "386             UNIFIED PROGRAM INTEGRITY CONTRACT (UPIC)\n",
              "                              ...                        \n",
              "3285            UNIFIED PROGRAM INTEGRITY CONTRACT (UPIC)\n",
              "3343    SSNRI AND HEALTH CARE FRAUD PREVENTION OUTREAC...\n",
              "3467      APPEALS AND PROGRAM INTEGRITY SUPPORT CONTRACTS\n",
              "3635            UNIFIED PROGRAM INTEGRITY CONTRACT (UPIC)\n",
              "3671            UNIFIED PROGRAM INTEGRITY CONTRACT (UPIC)\n",
              "Name: major_program, Length: 63, dtype: object"
            ]
          },
          "metadata": {
            "tags": []
          },
          "execution_count": 150
        }
      ]
    },
    {
      "cell_type": "markdown",
      "metadata": {
        "id": "2xrRigI0KrlA"
      },
      "source": [
        "\"QUALITY HEALTH STRATEGIES INC.\" (now [Qlarent.com](https://www.qlarant.com/) per a Google search) is still number one from the program view (though it is missing some $'s from above); however, the #2 player is \"HEWLETT PACKARD ENTERPRISE COMPANY\" from the major_program perspective."
      ]
    },
    {
      "cell_type": "code",
      "metadata": {
        "id": "UlRfBxK8E-dS",
        "outputId": "54d11076-57dc-44fa-83fa-5c6325d17eed",
        "colab": {
          "base_uri": "https://localhost:8080/",
          "height": 607
        }
      },
      "source": [
        "# Which firms are on those major programs?\n",
        "df_search_term_program_names_matches_obligations = df_search_term_program_names_matches.groupby(['recipient_parent_name'])['federal_action_obligation'].sum().reset_index().sort_values(by='federal_action_obligation', ascending=False)\n",
        "df_search_term_program_names_matches_obligations"
      ],
      "execution_count": null,
      "outputs": [
        {
          "output_type": "execute_result",
          "data": {
            "text/html": [
              "<div>\n",
              "<style scoped>\n",
              "    .dataframe tbody tr th:only-of-type {\n",
              "        vertical-align: middle;\n",
              "    }\n",
              "\n",
              "    .dataframe tbody tr th {\n",
              "        vertical-align: top;\n",
              "    }\n",
              "\n",
              "    .dataframe thead th {\n",
              "        text-align: right;\n",
              "    }\n",
              "</style>\n",
              "<table border=\"1\" class=\"dataframe\">\n",
              "  <thead>\n",
              "    <tr style=\"text-align: right;\">\n",
              "      <th></th>\n",
              "      <th>recipient_parent_name</th>\n",
              "      <th>federal_action_obligation</th>\n",
              "    </tr>\n",
              "  </thead>\n",
              "  <tbody>\n",
              "    <tr>\n",
              "      <th>14</th>\n",
              "      <td>QUALITY HEALTH STRATEGIES  INC.</td>\n",
              "      <td>53613338.00</td>\n",
              "    </tr>\n",
              "    <tr>\n",
              "      <th>4</th>\n",
              "      <td>HEWLETT PACKARD ENTERPRISE COMPANY</td>\n",
              "      <td>46442527.99</td>\n",
              "    </tr>\n",
              "    <tr>\n",
              "      <th>2</th>\n",
              "      <td>ADVANCEMED CORPORATION</td>\n",
              "      <td>28205285.72</td>\n",
              "    </tr>\n",
              "    <tr>\n",
              "      <th>11</th>\n",
              "      <td>NORTHROP GRUMMAN CORPORATION</td>\n",
              "      <td>24165406.00</td>\n",
              "    </tr>\n",
              "    <tr>\n",
              "      <th>17</th>\n",
              "      <td>UNITED HEALTHCARE SERVICES  INC.</td>\n",
              "      <td>21899190.00</td>\n",
              "    </tr>\n",
              "    <tr>\n",
              "      <th>6</th>\n",
              "      <td>INNOVISS  INC.</td>\n",
              "      <td>3930929.00</td>\n",
              "    </tr>\n",
              "    <tr>\n",
              "      <th>0</th>\n",
              "      <td>A. REDDIX &amp; ASSOCIATES INC.</td>\n",
              "      <td>3835197.00</td>\n",
              "    </tr>\n",
              "    <tr>\n",
              "      <th>8</th>\n",
              "      <td>KPMG L.L.P.</td>\n",
              "      <td>3350111.00</td>\n",
              "    </tr>\n",
              "    <tr>\n",
              "      <th>9</th>\n",
              "      <td>NEIL HOOSIER &amp; ASSOCIATES  INC.</td>\n",
              "      <td>509332.00</td>\n",
              "    </tr>\n",
              "    <tr>\n",
              "      <th>1</th>\n",
              "      <td>ACCURATE BIOMETRICS  INC.</td>\n",
              "      <td>507000.00</td>\n",
              "    </tr>\n",
              "    <tr>\n",
              "      <th>7</th>\n",
              "      <td>INTERNATIONAL BUSINESS MACHINES CORPORATION</td>\n",
              "      <td>378669.00</td>\n",
              "    </tr>\n",
              "    <tr>\n",
              "      <th>3</th>\n",
              "      <td>CHASE CONSULTING GROUP L.L.C.</td>\n",
              "      <td>164424.00</td>\n",
              "    </tr>\n",
              "    <tr>\n",
              "      <th>10</th>\n",
              "      <td>NORIDIAN MUTUAL INSURANCE COMPANY</td>\n",
              "      <td>0.00</td>\n",
              "    </tr>\n",
              "    <tr>\n",
              "      <th>5</th>\n",
              "      <td>HMS HOLDINGS CORP.</td>\n",
              "      <td>0.00</td>\n",
              "    </tr>\n",
              "    <tr>\n",
              "      <th>12</th>\n",
              "      <td>OMNICOM GROUP INC.</td>\n",
              "      <td>0.00</td>\n",
              "    </tr>\n",
              "    <tr>\n",
              "      <th>13</th>\n",
              "      <td>PRICEWATERHOUSECOOPERS PUBLIC SECTOR LLP</td>\n",
              "      <td>0.00</td>\n",
              "    </tr>\n",
              "    <tr>\n",
              "      <th>15</th>\n",
              "      <td>STRATEGIC HEALTH SOLUTIONS  L.L.C.</td>\n",
              "      <td>0.00</td>\n",
              "    </tr>\n",
              "    <tr>\n",
              "      <th>16</th>\n",
              "      <td>TRICENTURION  INC.</td>\n",
              "      <td>0.00</td>\n",
              "    </tr>\n",
              "  </tbody>\n",
              "</table>\n",
              "</div>"
            ],
            "text/plain": [
              "                          recipient_parent_name  federal_action_obligation\n",
              "14              QUALITY HEALTH STRATEGIES  INC.                53613338.00\n",
              "4            HEWLETT PACKARD ENTERPRISE COMPANY                46442527.99\n",
              "2                        ADVANCEMED CORPORATION                28205285.72\n",
              "11                 NORTHROP GRUMMAN CORPORATION                24165406.00\n",
              "17             UNITED HEALTHCARE SERVICES  INC.                21899190.00\n",
              "6                                INNOVISS  INC.                 3930929.00\n",
              "0                   A. REDDIX & ASSOCIATES INC.                 3835197.00\n",
              "8                                   KPMG L.L.P.                 3350111.00\n",
              "9               NEIL HOOSIER & ASSOCIATES  INC.                  509332.00\n",
              "1                     ACCURATE BIOMETRICS  INC.                  507000.00\n",
              "7   INTERNATIONAL BUSINESS MACHINES CORPORATION                  378669.00\n",
              "3                 CHASE CONSULTING GROUP L.L.C.                  164424.00\n",
              "10            NORIDIAN MUTUAL INSURANCE COMPANY                       0.00\n",
              "5                            HMS HOLDINGS CORP.                       0.00\n",
              "12                           OMNICOM GROUP INC.                       0.00\n",
              "13     PRICEWATERHOUSECOOPERS PUBLIC SECTOR LLP                       0.00\n",
              "15           STRATEGIC HEALTH SOLUTIONS  L.L.C.                       0.00\n",
              "16                           TRICENTURION  INC.                       0.00"
            ]
          },
          "metadata": {
            "tags": []
          },
          "execution_count": 153
        }
      ]
    },
    {
      "cell_type": "markdown",
      "metadata": {
        "id": "MKJ2YBOpLBCE"
      },
      "source": [
        "We can do some additional analysis to see which firms are common to both views and which are distinct as we explore the competitive landscape futher."
      ]
    },
    {
      "cell_type": "code",
      "metadata": {
        "id": "iZ1iR9KWd6WS",
        "outputId": "f378c557-cc13-4251-b621-a30ee9fdc7a3",
        "colab": {
          "base_uri": "https://localhost:8080/",
          "height": 170
        }
      },
      "source": [
        "# Common parent firms between major_programs and award_descriptions\n",
        "set(df_search_term_program_names_matches_obligations['recipient_parent_name']).intersection(set(df_search_term_contractors['recipient_parent_name']))"
      ],
      "execution_count": null,
      "outputs": [
        {
          "output_type": "execute_result",
          "data": {
            "text/plain": [
              "{'A. REDDIX & ASSOCIATES INC.',\n",
              " 'ADVANCEMED CORPORATION',\n",
              " 'HEWLETT PACKARD ENTERPRISE COMPANY',\n",
              " 'INNOVISS  INC.',\n",
              " 'INTERNATIONAL BUSINESS MACHINES CORPORATION',\n",
              " 'KPMG L.L.P.',\n",
              " 'NEIL HOOSIER & ASSOCIATES  INC.',\n",
              " 'NORTHROP GRUMMAN CORPORATION',\n",
              " 'QUALITY HEALTH STRATEGIES  INC.'}"
            ]
          },
          "metadata": {
            "tags": []
          },
          "execution_count": 162
        }
      ]
    },
    {
      "cell_type": "code",
      "metadata": {
        "id": "fbr4X3KNeZAM",
        "outputId": "0f690082-ece5-42c8-e650-456594a9e4f8",
        "colab": {
          "base_uri": "https://localhost:8080/",
          "height": 170
        }
      },
      "source": [
        "#major_programs parent names not listed in the award_descriptions matches\n",
        "set(df_search_term_program_names_matches_obligations['recipient_parent_name']) - set(df_search_term_contractors['recipient_parent_name'])"
      ],
      "execution_count": null,
      "outputs": [
        {
          "output_type": "execute_result",
          "data": {
            "text/plain": [
              "{'ACCURATE BIOMETRICS  INC.',\n",
              " 'CHASE CONSULTING GROUP L.L.C.',\n",
              " 'HMS HOLDINGS CORP.',\n",
              " 'NORIDIAN MUTUAL INSURANCE COMPANY',\n",
              " 'OMNICOM GROUP INC.',\n",
              " 'PRICEWATERHOUSECOOPERS PUBLIC SECTOR LLP',\n",
              " 'STRATEGIC HEALTH SOLUTIONS  L.L.C.',\n",
              " 'TRICENTURION  INC.',\n",
              " 'UNITED HEALTHCARE SERVICES  INC.'}"
            ]
          },
          "metadata": {
            "tags": []
          },
          "execution_count": 164
        }
      ]
    },
    {
      "cell_type": "code",
      "metadata": {
        "id": "ouIhbNLYeWgH",
        "outputId": "41ee1542-644a-4fad-c6a5-e8c193b23606",
        "colab": {
          "base_uri": "https://localhost:8080/",
          "height": 136
        }
      },
      "source": [
        "#award_descriptions matches NOT listed in major_programs parent names\n",
        "set(df_search_term_contractors['recipient_parent_name']) - set(df_search_term_program_names_matches_obligations['recipient_parent_name'])"
      ],
      "execution_count": null,
      "outputs": [
        {
          "output_type": "execute_result",
          "data": {
            "text/plain": [
              "{'AXIS CONSULTANT GROUP AND ASSOCIATES LLC',\n",
              " 'DANIEL J. EDELMAN  INC.',\n",
              " 'DELOITTE LLP',\n",
              " 'FU ASSOCIATES LIMITED',\n",
              " 'GENERAL DYNAMICS CORPORATION',\n",
              " 'NOBLIS  INC.',\n",
              " 'REVEAL GLOBAL CONSULTING LLC'}"
            ]
          },
          "metadata": {
            "tags": []
          },
          "execution_count": 165
        }
      ]
    },
    {
      "cell_type": "markdown",
      "metadata": {
        "id": "9a20y3GPLbOw"
      },
      "source": [
        "What else can we learn about the [#1 contractor](https://www.qlarant.com/) in the 'fraud' and 'program integrity' market at CMS? "
      ]
    },
    {
      "cell_type": "code",
      "metadata": {
        "id": "r0pFj5JrFQhb",
        "outputId": "6a194f50-c30b-4489-bae0-55581d279474",
        "colab": {
          "base_uri": "https://localhost:8080/",
          "height": 34
        }
      },
      "source": [
        "# What else can I learn about the #1 Player in the Market using USAspending.gov?\n",
        "\n",
        "parent_name = df_search_term_contractors.iloc[0]['recipient_parent_name']\n",
        "df.query(\"federal_action_obligation > 0.0 and recipient_parent_name == @parent_name\")['federal_action_obligation'].sum() #[['recipient_parent_name','cage_code']]"
      ],
      "execution_count": null,
      "outputs": [
        {
          "output_type": "execute_result",
          "data": {
            "text/plain": [
              "58019013.0"
            ]
          },
          "metadata": {
            "tags": []
          },
          "execution_count": 261
        }
      ]
    },
    {
      "cell_type": "markdown",
      "metadata": {
        "id": "bGbotOXQLygJ"
      },
      "source": [
        "They had $58,019,013 in GFY19 CMS obligations."
      ]
    },
    {
      "cell_type": "code",
      "metadata": {
        "id": "MGwYG4qpfVcy",
        "outputId": "f064710e-fa18-4386-d9eb-b42fb64cab9e",
        "colab": {
          "base_uri": "https://localhost:8080/",
          "height": 80
        }
      },
      "source": [
        "df.query(\"recipient_parent_name == @parent_name\")[['recipient_parent_name','cage_code']].drop_duplicates()"
      ],
      "execution_count": null,
      "outputs": [
        {
          "output_type": "execute_result",
          "data": {
            "text/html": [
              "<div>\n",
              "<style scoped>\n",
              "    .dataframe tbody tr th:only-of-type {\n",
              "        vertical-align: middle;\n",
              "    }\n",
              "\n",
              "    .dataframe tbody tr th {\n",
              "        vertical-align: top;\n",
              "    }\n",
              "\n",
              "    .dataframe thead th {\n",
              "        text-align: right;\n",
              "    }\n",
              "</style>\n",
              "<table border=\"1\" class=\"dataframe\">\n",
              "  <thead>\n",
              "    <tr style=\"text-align: right;\">\n",
              "      <th></th>\n",
              "      <th>recipient_parent_name</th>\n",
              "      <th>cage_code</th>\n",
              "    </tr>\n",
              "  </thead>\n",
              "  <tbody>\n",
              "    <tr>\n",
              "      <th>26</th>\n",
              "      <td>QUALITY HEALTH STRATEGIES  INC.</td>\n",
              "      <td>4C9S9</td>\n",
              "    </tr>\n",
              "  </tbody>\n",
              "</table>\n",
              "</div>"
            ],
            "text/plain": [
              "              recipient_parent_name cage_code\n",
              "26  QUALITY HEALTH STRATEGIES  INC.     4C9S9"
            ]
          },
          "metadata": {
            "tags": []
          },
          "execution_count": 166
        }
      ]
    },
    {
      "cell_type": "markdown",
      "metadata": {
        "id": "MrhrYQGQMIt6"
      },
      "source": [
        "Which contract vehicles are they doing business on and when the dollars expire (inference is a re-compete in that timeframe with 18-24 months to prepare)?"
      ]
    },
    {
      "cell_type": "code",
      "metadata": {
        "id": "vSCUzz60bAVZ",
        "outputId": "1efd5e51-676c-45fe-98ed-2d824dd59b03",
        "colab": {
          "base_uri": "https://localhost:8080/",
          "height": 421
        }
      },
      "source": [
        "df.query(\"cage_code == '4C9S9'\").groupby(['period_of_performance_potential_end_date', 'parent_award_id_piid', 'award_id_piid'])['federal_action_obligation'].sum().reset_index()"
      ],
      "execution_count": null,
      "outputs": [
        {
          "output_type": "execute_result",
          "data": {
            "text/html": [
              "<div>\n",
              "<style scoped>\n",
              "    .dataframe tbody tr th:only-of-type {\n",
              "        vertical-align: middle;\n",
              "    }\n",
              "\n",
              "    .dataframe tbody tr th {\n",
              "        vertical-align: top;\n",
              "    }\n",
              "\n",
              "    .dataframe thead th {\n",
              "        text-align: right;\n",
              "    }\n",
              "</style>\n",
              "<table border=\"1\" class=\"dataframe\">\n",
              "  <thead>\n",
              "    <tr style=\"text-align: right;\">\n",
              "      <th></th>\n",
              "      <th>period_of_performance_potential_end_date</th>\n",
              "      <th>parent_award_id_piid</th>\n",
              "      <th>award_id_piid</th>\n",
              "      <th>federal_action_obligation</th>\n",
              "    </tr>\n",
              "  </thead>\n",
              "  <tbody>\n",
              "    <tr>\n",
              "      <th>0</th>\n",
              "      <td>2019-02-28 00:00:00</td>\n",
              "      <td>HHSM500200800002I</td>\n",
              "      <td>HHSM500T0002</td>\n",
              "      <td>0.0</td>\n",
              "    </tr>\n",
              "    <tr>\n",
              "      <th>1</th>\n",
              "      <td>2019-06-30 00:00:00</td>\n",
              "      <td>HHSM500200800002I</td>\n",
              "      <td>HHSM500T0002</td>\n",
              "      <td>0.0</td>\n",
              "    </tr>\n",
              "    <tr>\n",
              "      <th>2</th>\n",
              "      <td>2019-08-31 00:00:00</td>\n",
              "      <td>HHSM500200800002I</td>\n",
              "      <td>HHSM500T0002</td>\n",
              "      <td>0.0</td>\n",
              "    </tr>\n",
              "    <tr>\n",
              "      <th>3</th>\n",
              "      <td>2019-12-28 00:00:00</td>\n",
              "      <td>HHSM500200500010I</td>\n",
              "      <td>HHS0001</td>\n",
              "      <td>102900.0</td>\n",
              "    </tr>\n",
              "    <tr>\n",
              "      <th>4</th>\n",
              "      <td>2020-01-31 00:00:00</td>\n",
              "      <td>HHSM500200800002I</td>\n",
              "      <td>HHSM500T0002</td>\n",
              "      <td>0.0</td>\n",
              "    </tr>\n",
              "    <tr>\n",
              "      <th>5</th>\n",
              "      <td>2020-06-28 00:00:00</td>\n",
              "      <td>HHSM500200500010I</td>\n",
              "      <td>HHS0001</td>\n",
              "      <td>4302775.0</td>\n",
              "    </tr>\n",
              "    <tr>\n",
              "      <th>6</th>\n",
              "      <td>2022-12-20 00:00:00</td>\n",
              "      <td>HHSM500201600080I</td>\n",
              "      <td>HHSM500T0002</td>\n",
              "      <td>19382050.0</td>\n",
              "    </tr>\n",
              "    <tr>\n",
              "      <th>7</th>\n",
              "      <td>2023-01-19 00:00:00</td>\n",
              "      <td>HHSM500201600080I</td>\n",
              "      <td>HHSM500T0001</td>\n",
              "      <td>18271623.0</td>\n",
              "    </tr>\n",
              "    <tr>\n",
              "      <th>8</th>\n",
              "      <td>2023-09-14 00:00:00</td>\n",
              "      <td>HHSM500201600080I</td>\n",
              "      <td>75FCMC18F0001</td>\n",
              "      <td>15959665.0</td>\n",
              "    </tr>\n",
              "    <tr>\n",
              "      <th>9</th>\n",
              "      <td>UNSPECIFIED</td>\n",
              "      <td>UNSPECIFIED</td>\n",
              "      <td>HHSM500200500010I</td>\n",
              "      <td>0.0</td>\n",
              "    </tr>\n",
              "    <tr>\n",
              "      <th>10</th>\n",
              "      <td>UNSPECIFIED</td>\n",
              "      <td>UNSPECIFIED</td>\n",
              "      <td>HHSM500200800002I</td>\n",
              "      <td>0.0</td>\n",
              "    </tr>\n",
              "    <tr>\n",
              "      <th>11</th>\n",
              "      <td>UNSPECIFIED</td>\n",
              "      <td>UNSPECIFIED</td>\n",
              "      <td>HHSM500201600080I</td>\n",
              "      <td>0.0</td>\n",
              "    </tr>\n",
              "  </tbody>\n",
              "</table>\n",
              "</div>"
            ],
            "text/plain": [
              "   period_of_performance_potential_end_date  ... federal_action_obligation\n",
              "0                       2019-02-28 00:00:00  ...                       0.0\n",
              "1                       2019-06-30 00:00:00  ...                       0.0\n",
              "2                       2019-08-31 00:00:00  ...                       0.0\n",
              "3                       2019-12-28 00:00:00  ...                  102900.0\n",
              "4                       2020-01-31 00:00:00  ...                       0.0\n",
              "5                       2020-06-28 00:00:00  ...                 4302775.0\n",
              "6                       2022-12-20 00:00:00  ...                19382050.0\n",
              "7                       2023-01-19 00:00:00  ...                18271623.0\n",
              "8                       2023-09-14 00:00:00  ...                15959665.0\n",
              "9                               UNSPECIFIED  ...                       0.0\n",
              "10                              UNSPECIFIED  ...                       0.0\n",
              "11                              UNSPECIFIED  ...                       0.0\n",
              "\n",
              "[12 rows x 4 columns]"
            ]
          },
          "metadata": {
            "tags": []
          },
          "execution_count": 178
        }
      ]
    },
    {
      "cell_type": "markdown",
      "metadata": {
        "id": "VSzNPj8xMarm"
      },
      "source": [
        "You can contine you analysis by exploring the fpds.gov and beta.sam.gov databases to see what else you can learn about the contract vehicle and the original RFP."
      ]
    },
    {
      "cell_type": "code",
      "metadata": {
        "id": "rcrZnPY1gNwR"
      },
      "source": [
        "#https://www.fpds.gov/ezsearch/fpdsportal?indexName=awardfull&templateName=1.5.1&s=FPDS.GOV&q=HHSM500201600080I&x=0&y=0\n",
        "\n",
        "parent_award_id_piid = 'HHSM500201600080I'\n",
        "fpds_url = 'https://www.fpds.gov/ezsearch/fpdsportal?indexName=awardfull&templateName=1.5.1&s=FPDS.GOV&q=' + parent_award_id_piid + '&x=0&y=0'\n",
        "\n",
        "fpds_page = pd.read_html(fpds_url) # get the first page of query (need to add code to get the additional pages)\n",
        "\n",
        "# You can explore the beta.sam.gov site as well\n",
        "award_id_piid = \"75FCMC18F0001\"\n",
        "beta_sam_search_url = 'https://beta.sam.gov/search?keywords=' + award_id_piid + \"&sort=-relevance&index=&is_active=true&\" + \"page=1\""
      ],
      "execution_count": null,
      "outputs": []
    },
    {
      "cell_type": "code",
      "metadata": {
        "id": "W7nn29LFgxEr",
        "outputId": "d8395cba-7eb4-4ca8-a99e-67a96f6b174c",
        "colab": {
          "base_uri": "https://localhost:8080/",
          "height": 297
        }
      },
      "source": [
        "fpds_page[17]"
      ],
      "execution_count": null,
      "outputs": [
        {
          "output_type": "execute_result",
          "data": {
            "text/html": [
              "<div>\n",
              "<style scoped>\n",
              "    .dataframe tbody tr th:only-of-type {\n",
              "        vertical-align: middle;\n",
              "    }\n",
              "\n",
              "    .dataframe tbody tr th {\n",
              "        vertical-align: top;\n",
              "    }\n",
              "\n",
              "    .dataframe thead th {\n",
              "        text-align: right;\n",
              "    }\n",
              "</style>\n",
              "<table border=\"1\" class=\"dataframe\">\n",
              "  <thead>\n",
              "    <tr style=\"text-align: right;\">\n",
              "      <th></th>\n",
              "      <th>0</th>\n",
              "      <th>1</th>\n",
              "      <th>2</th>\n",
              "      <th>3</th>\n",
              "    </tr>\n",
              "  </thead>\n",
              "  <tbody>\n",
              "    <tr>\n",
              "      <th>0</th>\n",
              "      <td>IDV ID (Mod#):</td>\n",
              "      <td>HHSM500201600080I ( 1 ) (View)</td>\n",
              "      <td>IDV Type:</td>\n",
              "      <td>IDC</td>\n",
              "    </tr>\n",
              "    <tr>\n",
              "      <th>1</th>\n",
              "      <td>Vendor Name:</td>\n",
              "      <td>HEALTH INTEGRITY, LLC</td>\n",
              "      <td>Contracting Agency:</td>\n",
              "      <td>CENTERS FOR MEDICARE AND MEDICAID SERVICES</td>\n",
              "    </tr>\n",
              "    <tr>\n",
              "      <th>2</th>\n",
              "      <td>Date Signed:</td>\n",
              "      <td>August 11, 2016</td>\n",
              "      <td>Action Obligation:</td>\n",
              "      <td>$0</td>\n",
              "    </tr>\n",
              "    <tr>\n",
              "      <th>3</th>\n",
              "      <td>Referenced IDV:</td>\n",
              "      <td>NaN</td>\n",
              "      <td>Contracting Office:</td>\n",
              "      <td>OFFICE OF ACQ&amp;GRANTS MGMT</td>\n",
              "    </tr>\n",
              "    <tr>\n",
              "      <th>4</th>\n",
              "      <td>NAICS (Code):</td>\n",
              "      <td>ALL OTHER PROFESSIONAL, SCIENTIFIC, AND TECHNI...</td>\n",
              "      <td>PSC (Code):</td>\n",
              "      <td>SUPPORT- PROFESSIONAL: OTHER  (  R499  )</td>\n",
              "    </tr>\n",
              "    <tr>\n",
              "      <th>5</th>\n",
              "      <td>Vendor City:</td>\n",
              "      <td>EASTON</td>\n",
              "      <td>Vendor DUNS:</td>\n",
              "      <td>190146923</td>\n",
              "    </tr>\n",
              "    <tr>\n",
              "      <th>6</th>\n",
              "      <td>Vendor State:</td>\n",
              "      <td>MD</td>\n",
              "      <td>Vendor ZIP:</td>\n",
              "      <td>216012732</td>\n",
              "    </tr>\n",
              "    <tr>\n",
              "      <th>7</th>\n",
              "      <td>Global Vendor Name:</td>\n",
              "      <td>Quality Health Strategies Inc.</td>\n",
              "      <td>Global DUNS Number:</td>\n",
              "      <td>926745808</td>\n",
              "    </tr>\n",
              "  </tbody>\n",
              "</table>\n",
              "</div>"
            ],
            "text/plain": [
              "                     0  ...                                           3\n",
              "0       IDV ID (Mod#):  ...                                         IDC\n",
              "1         Vendor Name:  ...  CENTERS FOR MEDICARE AND MEDICAID SERVICES\n",
              "2         Date Signed:  ...                                          $0\n",
              "3      Referenced IDV:  ...                   OFFICE OF ACQ&GRANTS MGMT\n",
              "4        NAICS (Code):  ...    SUPPORT- PROFESSIONAL: OTHER  (  R499  )\n",
              "5         Vendor City:  ...                                   190146923\n",
              "6        Vendor State:  ...                                   216012732\n",
              "7  Global Vendor Name:  ...                                   926745808\n",
              "\n",
              "[8 rows x 4 columns]"
            ]
          },
          "metadata": {
            "tags": []
          },
          "execution_count": 202
        }
      ]
    },
    {
      "cell_type": "markdown",
      "metadata": {
        "id": "IKVlbceAMp-4"
      },
      "source": [
        "Also, you can return to to USASpending.gov and select the Profiles/Recipients menu and enter qlarant to see an overview of their business [here](https://www.usaspending.gov/recipient/cac31689-e764-5ef6-ae42-4f6a1e366a64-P/latest)."
      ]
    },
    {
      "cell_type": "markdown",
      "metadata": {
        "id": "eifTkuq9NJJg"
      },
      "source": [
        "![Example - CMS - QLARENT Overview.png](data:image/png;base64,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)"
      ]
    },
    {
      "cell_type": "markdown",
      "metadata": {
        "id": "RFz3yxSMNwL7"
      },
      "source": [
        "In subsequent blogs, I will explore more use of analytics to look at trends across GFY, marketshare analysis, contract vehicle patterns, contract awards, etc. Also, I will show you ways to use additional open source Python packages such as dask to process multiple GFY (@ ~10GB/GFY) on your local machine, dashboarding to share your analysis, and use of machine learning (ML) tools to look at patterns in the data including time series. I will also add additional open data sources so we can see how mashups of data can help us better understand the competitive landscape. "
      ]
    },
    {
      "cell_type": "markdown",
      "metadata": {
        "id": "l74SZ94cQejI"
      },
      "source": [
        "Thank you and credit to [Ted Petrou](https://twitter.com/TedPetrou)  and his jupyter to medium.com tool. [See the how-to here](https://medium.com/dunder-data/jupyter-to-medium-initial-post-ecd140d339f0)."
      ]
    },
    {
      "cell_type": "code",
      "metadata": {
        "id": "heKRUvV6V47f"
      },
      "source": [
        ""
      ],
      "execution_count": null,
      "outputs": []
    },
    {
      "cell_type": "markdown",
      "metadata": {
        "id": "aCDYl3UeWSmh"
      },
      "source": [
        "https://opensource.org/licenses/MIT\n",
        "\n",
        "MIT Open Source License Copyright 2020 Leif C Ulstrup\n",
        "\n",
        "Permission is hereby granted, free of charge, to any person obtaining a copy of this software and associated documentation files (the \"Software\"), to deal in the Software without restriction, including without limitation the rights to use, copy, modify, merge, publish, distribute, sublicense, and/or sell copies of the Software, and to permit persons to whom the Software is furnished to do so, subject to the following conditions:\n",
        "\n",
        "The above copyright notice and this permission notice shall be included in all copies or substantial portions of the Software.\n",
        "\n",
        "THE SOFTWARE IS PROVIDED \"AS IS\", WITHOUT WARRANTY OF ANY KIND, EXPRESS OR IMPLIED, INCLUDING BUT NOT LIMITED TO THE WARRANTIES OF MERCHANTABILITY, FITNESS FOR A PARTICULAR PURPOSE AND NONINFRINGEMENT. IN NO EVENT SHALL THE AUTHORS OR COPYRIGHT HOLDERS BE LIABLE FOR ANY CLAIM, DAMAGES OR OTHER LIABILITY, WHETHER IN AN ACTION OF CONTRACT, TORT OR OTHERWISE, ARISING FROM, OUT OF OR IN CONNECTION WITH THE SOFTWARE OR THE USE OR OTHER DEALINGS IN THE SOFTWARE."
      ]
    },
    {
      "cell_type": "code",
      "metadata": {
        "id": "0bBGu2mJWTH6"
      },
      "source": [
        ""
      ],
      "execution_count": null,
      "outputs": []
    }
  ]
}